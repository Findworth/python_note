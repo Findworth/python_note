{
 "cells": [
  {
   "cell_type": "markdown",
   "source": [
    "1. alt+enter在多行注释中，注入语言,但是不能使用"
   ],
   "metadata": {
    "collapsed": false
   },
   "id": "bc1c5ef40c284d83"
  },
  {
   "cell_type": "markdown",
   "source": [
    "2. ctrl+shift+a快捷键召唤操作，可用于查找"
   ],
   "metadata": {
    "collapsed": false
   },
   "id": "c49eb0d8dee217a1"
  },
  {
   "cell_type": "markdown",
   "source": [
    "3. ctrl+j插入实施模版，可自定义，直接用提前写好的代码"
   ],
   "metadata": {
    "collapsed": false
   },
   "id": "7dde8e5350f0df97"
  },
  {
   "cell_type": "markdown",
   "source": [
    "4. todo 添加注释记录"
   ],
   "metadata": {
    "collapsed": false
   },
   "id": "a8ac81a9238c445"
  },
  {
   "cell_type": "markdown",
   "source": [
    "5. ctrl+shift+a找到文件之后，可以在文件上按shift+enter在右侧打开文件，同时打开2个文件"
   ],
   "metadata": {
    "collapsed": false
   },
   "id": "a41d29eca0067522"
  },
  {
   "cell_type": "markdown",
   "source": [
    "6. Ctrl + D：复制当前行或选中的代码"
   ],
   "metadata": {
    "collapsed": false
   },
   "id": "836f555f1667a542"
  },
  {
   "cell_type": "markdown",
   "source": [
    "7. Ctrl + Alt + O：优化导入"
   ],
   "metadata": {
    "collapsed": false
   },
   "id": "657b72d8a7fff8bd"
  },
  {
   "cell_type": "markdown",
   "source": [
    "8. Ctrl+alt+L自动规整代码"
   ],
   "metadata": {
    "collapsed": false
   },
   "id": "dd6ba279d3d1e5ab"
  },
  {
   "cell_type": "markdown",
   "source": [
    "9. ctrl+右箭头跳转整个单词"
   ],
   "metadata": {
    "collapsed": false
   },
   "id": "b212131fa80acd65"
  },
  {
   "cell_type": "markdown",
   "source": [
    "10. ctrl+y删除行"
   ],
   "metadata": {
    "collapsed": false
   },
   "id": "182e506453f500f7"
  },
  {
   "cell_type": "markdown",
   "source": [
    "11. ctrl+alt+enter在当前行开启上一行"
   ],
   "metadata": {
    "collapsed": false
   },
   "id": "f3a2a99c7fdba328"
  },
  {
   "cell_type": "markdown",
   "source": [
    "12. shift+enter直接跳到下一行"
   ],
   "metadata": {
    "collapsed": false
   },
   "id": "d742f9fa0a358eae"
  }
 ],
 "metadata": {
  "kernelspec": {
   "display_name": "Python 3",
   "language": "python",
   "name": "python3"
  },
  "language_info": {
   "codemirror_mode": {
    "name": "ipython",
    "version": 2
   },
   "file_extension": ".py",
   "mimetype": "text/x-python",
   "name": "python",
   "nbconvert_exporter": "python",
   "pygments_lexer": "ipython2",
   "version": "2.7.6"
  }
 },
 "nbformat": 4,
 "nbformat_minor": 5
}
