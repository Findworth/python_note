{
 "cells": [
  {
   "cell_type": "markdown",
   "source": [
    "原则"
   ],
   "metadata": {
    "collapsed": false
   },
   "id": "53a1223c9bee727"
  },
  {
   "cell_type": "code",
   "execution_count": 1,
   "outputs": [
    {
     "name": "stdout",
     "output_type": "stream",
     "text": [
      "The Zen of Python, by Tim Peters\n",
      "\n",
      "Beautiful is better than ugly.\n",
      "Explicit is better than implicit.\n",
      "Simple is better than complex.\n",
      "Complex is better than complicated.\n",
      "Flat is better than nested.\n",
      "Sparse is better than dense.\n",
      "Readability counts.\n",
      "Special cases aren't special enough to break the rules.\n",
      "Although practicality beats purity.\n",
      "Errors should never pass silently.\n",
      "Unless explicitly silenced.\n",
      "In the face of ambiguity, refuse the temptation to guess.\n",
      "There should be one-- and preferably only one --obvious way to do it.\n",
      "Although that way may not be obvious at first unless you're Dutch.\n",
      "Now is better than never.\n",
      "Although never is often better than *right* now.\n",
      "If the implementation is hard to explain, it's a bad idea.\n",
      "If the implementation is easy to explain, it may be a good idea.\n",
      "Namespaces are one honking great idea -- let's do more of those!\n"
     ]
    }
   ],
   "source": [
    "import this"
   ],
   "metadata": {
    "collapsed": false,
    "ExecuteTime": {
     "end_time": "2024-09-16T11:27:24.054725100Z",
     "start_time": "2024-09-16T11:27:24.046726500Z"
    }
   },
   "id": "398a9558ec25ef98"
  },
  {
   "cell_type": "markdown",
   "source": [
    "1. 使用这样的输出格式，方便快捷"
   ],
   "metadata": {
    "collapsed": false
   },
   "id": "9f25372dda075cb7"
  },
  {
   "cell_type": "code",
   "execution_count": 1,
   "outputs": [
    {
     "name": "stdout",
     "output_type": "stream",
     "text": [
      "num is 2\n"
     ]
    }
   ],
   "source": [
    "num=2\n",
    "print(f\"num is {num}\")"
   ],
   "metadata": {
    "collapsed": false,
    "ExecuteTime": {
     "end_time": "2024-05-01T16:37:19.243353Z",
     "start_time": "2024-05-01T16:37:19.232765100Z"
    }
   },
   "id": "797d4743629e511"
  },
  {
   "cell_type": "markdown",
   "source": [
    "2. 操作文件用with,无论是否发生异常都会关闭，不建议使用try finally"
   ],
   "metadata": {
    "collapsed": false
   },
   "id": "95d1e16dadb1eb20"
  },
  {
   "cell_type": "code",
   "execution_count": null,
   "outputs": [],
   "source": [
    "def open_close(filename):\n",
    "    with open(filename,'r')as f:\n",
    "        f.write('hello world\\n')"
   ],
   "metadata": {
    "collapsed": false
   },
   "id": "49dedffc559d5200"
  },
  {
   "cell_type": "markdown",
   "source": [
    "3. 在函数中设置变量时，如果设置可变的参数则可能会错误,尽量避免"
   ],
   "metadata": {
    "collapsed": false
   },
   "id": "50d5cd8367b8c511"
  },
  {
   "cell_type": "code",
   "execution_count": 6,
   "outputs": [
    {
     "name": "stdout",
     "output_type": "stream",
     "text": [
      "[1]\n",
      "[1, 2]\n"
     ]
    }
   ],
   "source": [
    "\"\"\"错误的示范\"\"\"\n",
    "def append(n,l=[]):\n",
    "    l.append(n)\n",
    "    return l\n",
    "l1=append(1)\n",
    "print(l1)\n",
    "l2=append(2)\n",
    "print(l2)"
   ],
   "metadata": {
    "collapsed": false,
    "ExecuteTime": {
     "end_time": "2024-05-01T16:45:35.592945200Z",
     "start_time": "2024-05-01T16:45:35.575549800Z"
    }
   },
   "id": "cfecb2bd32a18686"
  },
  {
   "cell_type": "markdown",
   "source": [],
   "metadata": {
    "collapsed": false
   },
   "id": "afebf0f30d8b3445"
  },
  {
   "cell_type": "code",
   "execution_count": 8,
   "outputs": [
    {
     "name": "stdout",
     "output_type": "stream",
     "text": [
      "[1]\n",
      "[2]\n"
     ]
    }
   ],
   "source": [
    "\"\"\"正确示范\"\"\"\n",
    "def append_two(n,l=None):\n",
    "    if l is None:\n",
    "        l=[]\n",
    "    l.append(n)\n",
    "    return l\n",
    "l1=append_two(1)\n",
    "print(l1)\n",
    "l2=append_two(2)\n",
    "print(l2)"
   ],
   "metadata": {
    "collapsed": false,
    "ExecuteTime": {
     "end_time": "2024-05-01T16:46:46.757966900Z",
     "start_time": "2024-05-01T16:46:46.745512800Z"
    }
   },
   "id": "4ba95f054820c6c7"
  },
  {
   "cell_type": "markdown",
   "source": [
    "4. 推荐使用列表推导式，同时考虑可读性的话使用循环"
   ],
   "metadata": {
    "collapsed": false
   },
   "id": "1876fbf11a4f7fe"
  },
  {
   "cell_type": "markdown",
   "source": [
    "5. 对于类型的检查，当对象是子类时使用isinstance，当对象是父类时使用type"
   ],
   "metadata": {
    "collapsed": false
   },
   "id": "c251b0fce5e72008"
  },
  {
   "cell_type": "code",
   "execution_count": 12,
   "outputs": [
    {
     "name": "stdout",
     "output_type": "stream",
     "text": [
      "p is not tuple\n",
      "p is tuple\n"
     ]
    }
   ],
   "source": [
    "from collections import namedtuple\n",
    "def mis_check_type():\n",
    "    Point=namedtuple(\"point\",[\"x\",\"y\"])\n",
    "    p=Point(1,2)\n",
    "    if type(p)==tuple:\n",
    "        print(\"p is tuple\")\n",
    "    else:\n",
    "        print(\"p is not tuple\")\n",
    "def right_check_type():\n",
    "    Point=namedtuple(\"point\",[\"x\",\"y\"])\n",
    "    p=Point(1,2)\n",
    "    if isinstance(p,tuple):\n",
    "        print(\"p is tuple\")\n",
    "    else:\n",
    "        print(\"p is not tuple\")\n",
    "mis_check_type()\n",
    "right_check_type()"
   ],
   "metadata": {
    "collapsed": false,
    "ExecuteTime": {
     "end_time": "2024-05-01T17:02:28.034149500Z",
     "start_time": "2024-05-01T17:02:28.020531800Z"
    }
   },
   "id": "9aa8185ef1d87ea3"
  },
  {
   "cell_type": "markdown",
   "source": [
    "6. 使用is 判断True flase none而不是=="
   ],
   "metadata": {
    "collapsed": false
   },
   "id": "ed8204f97e9c8d4c"
  },
  {
   "cell_type": "code",
   "execution_count": 14,
   "outputs": [
    {
     "name": "stdout",
     "output_type": "stream",
     "text": [
      "True\n",
      "False\n"
     ]
    }
   ],
   "source": [
    "a=None\n",
    "b=True\n",
    "print(a is None)\n",
    "print(b is False)"
   ],
   "metadata": {
    "collapsed": false,
    "ExecuteTime": {
     "end_time": "2024-05-01T17:04:22.769223Z",
     "start_time": "2024-05-01T17:04:22.762990400Z"
    }
   },
   "id": "2cf6de45305e51aa"
  },
  {
   "cell_type": "markdown",
   "source": [
    "7. 对于某些判断的简化"
   ],
   "metadata": {
    "collapsed": false
   },
   "id": "b63ce76a461ca078"
  },
  {
   "cell_type": "code",
   "execution_count": 16,
   "outputs": [
    {
     "name": "stdout",
     "output_type": "stream",
     "text": [
      "not empty\n",
      "not empty\n",
      "not empty\n"
     ]
    }
   ],
   "source": [
    "\"\"\"mistake\"\"\"\n",
    "def mis_check_bool(x):\n",
    "    if len(x)!=0:\n",
    "        print(\"not empty\")\n",
    "    if bool(x):\n",
    "        print(\"not empty\")\n",
    "\"\"\"right\"\"\"\n",
    "def right_check_bool(x):\n",
    "    if x:\n",
    "        print(\"not empty\")\n",
    "mis_check_bool([1,2])\n",
    "right_check_bool([4,5])"
   ],
   "metadata": {
    "collapsed": false,
    "ExecuteTime": {
     "end_time": "2024-05-01T17:07:26.393076100Z",
     "start_time": "2024-05-01T17:07:26.382271800Z"
    }
   },
   "id": "9a12d1085bde2fe2"
  },
  {
   "cell_type": "markdown",
   "source": [
    "8. 遍历的方式和方法的选择"
   ],
   "metadata": {
    "collapsed": false
   },
   "id": "3eb7b997f8b344ee"
  },
  {
   "cell_type": "code",
   "execution_count": null,
   "outputs": [],
   "source": [
    "\"\"\"mistake\"\"\"\n",
    "t=[1,2,3]\n",
    "u=[4,5,6]\n",
    "def range_len(iterobj_one,iterobj_two):\n",
    "    for i in  range(len(iterobj_one)):\n",
    "        print(iterobj_one[i])\n",
    "        print(iterobj_two[i])\n",
    "range_len(t,u)\n",
    "\"\"\"right,结合其他函数如\"\"\"\n",
    "def simple(iterobj_one,iterobj_two):\n",
    "    for one,two in zip(iterobj_one,iterobj_two):\n",
    "        print(one)\n",
    "        print(two)\n",
    "simple(t,u)"
   ],
   "metadata": {
    "collapsed": false
   },
   "id": "75c3be91178fa8f9"
  },
  {
   "cell_type": "markdown",
   "source": [
    "9. 遍历字典时的简化"
   ],
   "metadata": {
    "collapsed": false
   },
   "id": "eb06d127f17ac327"
  },
  {
   "cell_type": "code",
   "execution_count": 2,
   "outputs": [
    {
     "name": "stdout",
     "output_type": "stream",
     "text": [
      "key is a,val is 1\n",
      "key is b,val is 2\n",
      "key is c,val is 3\n",
      "a\n",
      "val is \n",
      "1\n",
      "b\n",
      "val is \n",
      "2\n",
      "c\n",
      "val is \n",
      "3\n"
     ]
    }
   ],
   "source": [
    "\"\"\"right\"\"\"\n",
    "d={\"a\":1,\"b\":2,\"c\":3}\n",
    "def one():\n",
    "    \"\"\"对于获取值mis\"\"\"\n",
    "    for key in d:\n",
    "        print(key)\n",
    "        print(\"val is \")\n",
    "        print(d[key])\n",
    "\"\"\"simple one\"\"\"\n",
    "for key ,val in d.items():\n",
    "    print(f\"key is {key},val is {val}\")\n",
    "one()"
   ],
   "metadata": {
    "collapsed": false,
    "ExecuteTime": {
     "end_time": "2024-09-16T11:31:35.327047900Z",
     "start_time": "2024-09-16T11:31:35.296317Z"
    }
   },
   "id": "52f06e973edf2ea5"
  },
  {
   "cell_type": "markdown",
   "source": [
    "10. time.time()的替代品"
   ],
   "metadata": {
    "collapsed": false
   },
   "id": "70974f47579c51d5"
  },
  {
   "cell_type": "code",
   "execution_count": 34,
   "outputs": [
    {
     "name": "stdout",
     "output_type": "stream",
     "text": [
      "time is 1.0151793956756592\n"
     ]
    }
   ],
   "source": [
    "import time\n",
    "\"\"\"相比于time.time(),time.perf_counter()更精准\"\"\"\n",
    "def timing():\n",
    "    start=time.perf_counter()\n",
    "    time.sleep(1)\n",
    "    end=time.perf_counter()\n",
    "    print(f\"time is {end-start}\")\n",
    "timing()"
   ],
   "metadata": {
    "collapsed": false,
    "ExecuteTime": {
     "end_time": "2024-05-01T17:33:44.638655600Z",
     "start_time": "2024-05-01T17:33:43.605462700Z"
    }
   },
   "id": "3788409003b7f563"
  },
  {
   "cell_type": "markdown",
   "source": [
    "11. 使用if __name__ == \"__main__\":"
   ],
   "metadata": {
    "collapsed": false
   },
   "id": "a9bb258af2937f32"
  },
  {
   "cell_type": "markdown",
   "source": [
    "15. 遵循PEP8法则"
   ],
   "metadata": {
    "collapsed": false
   },
   "id": "43a1b73254cc5c0f"
  },
  {
   "cell_type": "markdown",
   "source": [
    "16. 使用类型注释"
   ],
   "metadata": {
    "collapsed": false
   },
   "id": "7a807dea02edb216"
  },
  {
   "cell_type": "code",
   "execution_count": null,
   "outputs": [],
   "source": [
    "def add(x:int, y: int) -> int:\n",
    " return x + y \n"
   ],
   "metadata": {
    "collapsed": false
   },
   "id": "336ed6835f0a86b"
  },
  {
   "cell_type": "markdown",
   "source": [
    "17. 在函数的类或函数下方用\"\"\" \"\"\"自动显示参数注释\n",
    "18. 实例化类的对象时，对准类的名称，自动显示参数，或者在括号ctrl+p显示"
   ],
   "metadata": {
    "collapsed": false
   },
   "id": "cc6b7c39e7a40d79"
  },
  {
   "cell_type": "code",
   "execution_count": null,
   "outputs": [],
   "source": [
    "def test_three(self,email):\n",
    "    \"\"\"\n",
    "    \n",
    "    :param self: \n",
    "    :param email: \n",
    "    :return: \n",
    "    \"\"\"\n",
    "    return email\n",
    "class test():\n",
    "    def __init__(self,name,age,pay):\n",
    "        \"\"\"\n",
    "        \n",
    "        :param name: \n",
    "        :param age: \n",
    "        :param pay: \n",
    "        \"\"\"\n",
    "        self.name=name\n",
    "        self.age=age\n",
    "        self.pay=pay\n",
    "    def test_two(self,hobby):\n",
    "        \"\"\"\n",
    "        \n",
    "        :param hobby: \n",
    "        :return: \n",
    "        \"\"\"\n",
    "        return hobby\n",
    "a=test()\n",
    "test_three()"
   ],
   "metadata": {
    "collapsed": false
   },
   "id": "30816176ef3e4ab"
  }
 ],
 "metadata": {
  "kernelspec": {
   "display_name": "Python 3",
   "language": "python",
   "name": "python3"
  },
  "language_info": {
   "codemirror_mode": {
    "name": "ipython",
    "version": 2
   },
   "file_extension": ".py",
   "mimetype": "text/x-python",
   "name": "python",
   "nbconvert_exporter": "python",
   "pygments_lexer": "ipython2",
   "version": "2.7.6"
  }
 },
 "nbformat": 4,
 "nbformat_minor": 5
}
