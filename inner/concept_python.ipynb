{
 "cells": [
  {
   "cell_type": "markdown",
   "source": [
    "(https://docs.python.org/zh-cn/3.9/glossary.html#glossary)\n",
    "python的术语对照表"
   ],
   "metadata": {
    "collapsed": false
   },
   "id": "16d2a67ada64f3d6"
  },
  {
   "cell_type": "markdown",
   "source": [
    "1. 模块和包\n",
    "模块就是一个后缀为py的文件\n",
    "包是一个包含__init__.py文件的，里面有多个模块的文件夹"
   ],
   "metadata": {
    "collapsed": false
   },
   "id": "b7e5197c243aa88b"
  },
  {
   "cell_type": "markdown",
   "source": [
    "2. 先行动，后请求原谅”（EAFP）是一种编程原则，建议尝试执行某个操作并处理可能发生的错误或异常，而不是事先检查该操作是否可能。这种方法可以导致更简洁和易读的代码。\n",
    "\n",
    "总的来说，“Duck Typing和先行动，后请求原谅”意味着在编程中，更重要的是关注对象是否能够执行必要的操作，而不是其具体类型，并且尝试执行操作并处理可能出现的错误，而不是事先检查该操作是否可能。"
   ],
   "metadata": {
    "collapsed": false
   },
   "id": "b389ee740256cd4b"
  },
  {
   "cell_type": "markdown",
   "source": [
    "3. 编程_三大编程思想：POP、OOP、AOP(https://cloud.tencent.com/developer/article/2052899)\n",
    "    1. POP：面向过程编程（Procedure Oriented Programming）\n",
    "    程序设计中主要以函数或过程为程序的基本组织方式，系统功能是由一组相关的过程和函数序列构成,面向过程更强调细节，忽视了整体性和边界性。典型代表是：C/C++\n",
    "    善于结合数据结构来开发高效率的程序\n",
    "    2. OOP：面向对象编程（Object Oriented Programming）\n",
    "    实体及其属性和行为进行抽象封装\n",
    "    抽象、封装、继承、多态\n",
    "    3. AOP：面向切面编程（Aspect Oriented Programming）"
   ],
   "metadata": {
    "collapsed": false
   },
   "id": "e2ab0c46cb21a87"
  },
  {
   "cell_type": "markdown",
   "source": [
    "4. .pyc 文件是 Python 编译器生成的已编译的字节码文件，其全称是 Python Compiled file。当 Python 解释器执行一个 .py 源代码文件时，它首先会将源代码编译为字节码，然后执行这些字节码。为了加快后续执行的速度，Python 会将这些字节码缓存为 .pyc 文件。\n",
    ".pyc 文件的作用是提高程序启动时的性能，因为下次运行时 Python 可以直接使用 .pyc 文件中的字节码，而无需再次编译源代码。\n",
    "通常存放在一个名为 __pycache__ 的目录下。文件名的格式通常是 模块名.cpython-版本号.pyc，例如 example.cpython-38.pyc，表示使用 CPython 3.8 版本编译的字节码\n",
    "如果 example.py 文件之后没有被修改，再次运行时将直接使用 __pycache__ 目录中的 .pyc 文件，从而跳过编译过程。\n"
   ],
   "metadata": {
    "collapsed": false
   },
   "id": "f227e4e9343fb859"
  }
 ],
 "metadata": {
  "kernelspec": {
   "display_name": "Python 3",
   "language": "python",
   "name": "python3"
  },
  "language_info": {
   "codemirror_mode": {
    "name": "ipython",
    "version": 2
   },
   "file_extension": ".py",
   "mimetype": "text/x-python",
   "name": "python",
   "nbconvert_exporter": "python",
   "pygments_lexer": "ipython2",
   "version": "2.7.6"
  }
 },
 "nbformat": 4,
 "nbformat_minor": 5
}
