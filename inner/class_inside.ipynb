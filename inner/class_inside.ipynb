{
 "cells": [
  {
   "cell_type": "markdown",
   "source": [
    "### python描述器！！(https://docs.python.org/zh-cn/3.9/howto/descriptor.html#simple-example-a-descriptor-that-returns-a-constant)"
   ],
   "metadata": {
    "collapsed": false
   },
   "id": "d6e837d32e89db30"
  },
  {
   "cell_type": "markdown",
   "source": [
    "1. 定义了 __get__()，__set__() 或 __delete__() 其中任何一个的对象\n",
    "还可以有 __set_name__() 方法\n",
    "2. 描述器仅在用作类变量时起作用。放入实例时，它们将失效\n",
    "3. 属性查找期间，描述器由点运算符调用\n",
    "4. 描述器被分配给类字典中的公开属性\n",
    "5. 在Python中，实例的实际数据和属性存储在实例的__dict__属性中\n",
    "    1. 类的属性存储在类的__dict__属性中\n",
    "    2. 类的属性可以被访问，但是默认情况下，实例的属性是私有的，也就不属于公开属性，实例字典保存了实例的属性和实际数据，需要通过实例方法来访问\n",
    "    3. 也就是类字典不包括实例属性和实际数据\n",
    "6. 允许存储在类变量中的对象控制在属性查找期间发生的情况\n",
    "7. 定义了 __set__() 或 __delete__()，则它会被视为数据描述器。 仅定义了 __get__() 的描述器称为非数据描述器"
   ],
   "metadata": {
    "collapsed": false
   },
   "id": "4166128b3f63ab3c"
  },
  {
   "cell_type": "code",
   "execution_count": 11,
   "outputs": [
    {
     "name": "stdout",
     "output_type": "stream",
     "text": [
      "{'name': 'ghj'}\n",
      "{'__module__': '__main__', '__init__': <function A.__init__ at 0x000001A2DA964310>, 'x': 5, 'y': <__main__.Ten object at 0x000001A2DA97ACD0>, '__dict__': <attribute '__dict__' of 'A' objects>, '__weakref__': <attribute '__weakref__' of 'A' objects>, '__doc__': None}\n",
      "5\n",
      "10\n"
     ]
    }
   ],
   "source": [
    "\"\"\"\n",
    "__get__\n",
    "注意参数\n",
    "\"\"\"\n",
    "class Ten:\n",
    "    def __get__(self, obj, objtype=None):\n",
    "        \"\"\"\n",
    "        self:y\n",
    "        :param obj: a\n",
    "        :param objtype: \n",
    "        :return: 常量\n",
    "        \"\"\"\n",
    "        return 10\n",
    "class A:\n",
    "    def __init__(self,name):\n",
    "        self.name = name#实例属性\n",
    "    x = 5                       \n",
    "    y = Ten() \n",
    "a=A(\"ghj\")\n",
    "print(a.__dict__)#实例字典\n",
    "print(A.__dict__)\n",
    "print(a.x)#点运算符会找到存储在类字典中的键 x 及对应的值 5\n",
    "\n",
    "print(a.y)#点运算符会根据描述器实例的 __get__ 方法将其识别出来，调用该方法并返回 10\n"
   ],
   "metadata": {
    "collapsed": false,
    "ExecuteTime": {
     "end_time": "2024-05-09T15:02:38.612544600Z",
     "start_time": "2024-05-09T15:02:38.591679Z"
    }
   },
   "id": "9f9f041d3349e153"
  },
  {
   "cell_type": "markdown",
   "source": [
    "8. 属性访问的默认行为\n",
    "    1. 对于实例来说，a.x 的查找顺序会从 a.__dict__['x'] 开始\n",
    "    2. 然后是 type(a).__dict__['x'](即他的类变量等等)\n",
    "    3. 接下来依次查找 type(a) 的方法解析顺序（MRO）\n",
    "    4. 如果找到的值是定义了某个描述器方法的对象，转而发起调用描述器方法\n",
    "    5.  实例查找通过命名空间链进行扫描，数据描述器的优先级最高，其次是实例变量、非数据描述器、类变量，最后是 __getattr__() （如果存在的话）。\n",
    "        1. 当实例中存在一个数据描述器时，无论是否存在同名的实例变量、非数据描述器或类变量，数据描述器都会优先被访问。\n",
    "        2. 实例变量：如果实例中存在同名的实例变量，且没有数据描述器覆盖该属性，则实例变量会被优先访问\n",
    "        3. 非数据描述器：非数据描述器是指只实现了 __get__() 方法的描述器。如果实例中不存在同名的实例变量，但存在一个非数据描述器，则该非数据描述器会被访问。\n",
    "        4. 类变量：如果实例中既没有同名的实例变量也没有非数据描述器，Python 将在类中查找同名的属性。如果类中存在同名的属性（类变量），则该类变量会被访问。\n",
    "                \n",
    "    6. 对于下面的例子，由于访问pete.name,在pete.__dict__中没有找到(因为已经是私有名称了)，然后再类中找到了name类变量，即描述器，调用__get__方法，返回了值"
   ],
   "metadata": {
    "collapsed": false
   },
   "id": "c8a2013c09ea4078"
  },
  {
   "cell_type": "markdown",
   "source": [
    "9. !!!数据和非数据描述器的不同之处在于，如何计算实例字典中条目的替代值。如果实例的字典具有与数据描述器同名的条目，则数据描述器优先。如果实例的字典具有与非数据描述器同名的条目，则该字典条目优先。\n",
    "    1. 解释：如果有__set__方法，那么就会在实例字典中创建私有名称，替代同名的条目，如果没有，只有__get__，则不会改变"
   ],
   "metadata": {
    "collapsed": false
   },
   "id": "5b61733b7e04d745"
  },
  {
   "cell_type": "code",
   "execution_count": null,
   "outputs": [],
   "source": [
    "\"\"\"\n",
    "托管属性\n",
    "1. 托管对实例数据的访问\n",
    "2. 由于name和age属性已经在Person类中使用描述符绑定了，因此当我们在__init__方法中设置self.name和self.age时，实际上是调用了描述符的__set__方法来设置属性的值。这样描述符就可以在访问和设置属性时进行日志记录。\n",
    "3. \n",
    "\"\"\"\n",
    "from loguru import logger\n",
    "import sys\n",
    "logger.remove()\n",
    "logger.add(sys.stderr)\n",
    "class log:\n",
    "    def __set_name__(self, owner, name):\n",
    "    #owner=类，name=类变量的名称\n",
    "        self.public_name = name#给外部用户的名称\n",
    "    #防止与描述符的公共名称发生冲突\n",
    "        self.private_name = '_' + name#内部维护的名称\n",
    "\n",
    "    def __get__(self, obj, objtype=None):\n",
    "        #传入的参数已经固定\n",
    "        value = getattr(obj, self.private_name)\n",
    "        #因为初始化后，实例字典已经是private_name，所以要获取的话只能用private_name\n",
    "        logger.debug(\"访问\")\n",
    "        return value\n",
    "\n",
    "    def __set__(self, obj, value):\n",
    "        logger.debug(\"改\")\n",
    "        setattr(obj, self.private_name, value)\n",
    "        #初始化，或者更改时调用，操作结果储存到实例的实例字典\n",
    "        #print(vars(pete))和print(pete.__dict__)都只有私有名称\n",
    "        #但是公共名称还是在类中的属性name当中\n",
    "class Person:\n",
    "\n",
    "    name =log()                # First descriptor instance\n",
    "    age =log()                 # Second descriptor instance\n",
    "#这步完成之后， def __set_name__(self, owner, name):已经自动调用并且传参\n",
    "    def __init__(self, name, age):\n",
    "        self.name = name                 # Calls the first descriptor\n",
    "        self.age = age                   # Calls the second descriptor\n",
    "\n",
    "    def birthday(self):\n",
    "        self.age += 1\n",
    "\n",
    "#print(vars(vars(Person)['name']))\n",
    "pete = Person('Peter P', 10)\n",
    "print(\"name\" in dir(pete))\n",
    "print(\"_name\" in dir(pete))\n",
    "print(\"age\" in dir(pete))\n",
    "print(\"_age\" in dir(pete))\n",
    "print(\"name\" in pete.__dict__)\n",
    "print(\"age\" in pete.__dict__)\n",
    "print(\"_age\" in pete.__dict__)\n",
    "print(\"_name\" in pete.__dict__)\n",
    "\n",
    "print(pete.name)\n",
    "\n",
    "#描述符会在类的字典中创建一个私有的属性名称，以便存储属性的值\n",
    "print(Person.__dict__)\n",
    "print(vars(vars(Person)['name']))\n"
   ],
   "metadata": {
    "collapsed": false
   },
   "id": "9bda43496327ca55"
  },
  {
   "cell_type": "code",
   "execution_count": null,
   "outputs": [],
   "source": [],
   "metadata": {
    "collapsed": false
   },
   "id": "f0d706a622e16b1c"
  },
  {
   "cell_type": "code",
   "execution_count": null,
   "outputs": [],
   "source": [],
   "metadata": {
    "collapsed": false
   },
   "id": "51043a9067d18aa"
  },
  {
   "cell_type": "markdown",
   "source": [
    "需要的概念：\n",
    "1. 方法\n",
    "2. 函数\n",
    "3. 对象"
   ],
   "metadata": {
    "collapsed": false
   },
   "id": "d3caa92df6abdd76"
  },
  {
   "cell_type": "code",
   "execution_count": 4,
   "outputs": [
    {
     "name": "stdout",
     "output_type": "stream",
     "text": [
      "<function add at 0x000001A2D8F85B80>\n",
      "<function T.mul at 0x000001A2DA3DFE50>\n"
     ]
    }
   ],
   "source": [
    "\"\"\"\n",
    "函数：\n",
    "1. 外部的函数\n",
    "2. 通过类直接调用函数\n",
    "\"\"\"\n",
    "def add():\n",
    "    pass\n",
    "class T():\n",
    "    def mul(self):\n",
    "        pass\n",
    "print(add)\n",
    "print(T.mul)"
   ],
   "metadata": {
    "collapsed": false,
    "ExecuteTime": {
     "end_time": "2024-05-09T14:18:13.451027500Z",
     "start_time": "2024-05-09T14:18:13.439796800Z"
    }
   },
   "id": "dd7140bffbe63d40"
  },
  {
   "cell_type": "code",
   "execution_count": 1,
   "outputs": [
    {
     "name": "stdout",
     "output_type": "stream",
     "text": [
      "{'__module__': '__main__', 'mul': <function T.mul at 0x000001E4866593A0>, '__dict__': <attribute '__dict__' of 'T' objects>, '__weakref__': <attribute '__weakref__' of 'T' objects>, '__doc__': None}\n",
      "<bound method T.mul of <__main__.T object at 0x000001E4865BD130>>\n"
     ]
    }
   ],
   "source": [
    "\"\"\"\n",
    "方法(绑定方法)\n",
    "1. 类实例调用\n",
    "\"\"\"\n",
    "class T():\n",
    "    def mul(self):\n",
    "        pass\n",
    "print(T.__dict__)#类词典\n",
    "t=T()\n",
    "print(t.mul)"
   ],
   "metadata": {
    "collapsed": false,
    "ExecuteTime": {
     "end_time": "2024-09-12T14:20:25.051829Z",
     "start_time": "2024-09-12T14:20:25.036044100Z"
    }
   },
   "id": "46a19bde1c9f4c24"
  },
  {
   "cell_type": "markdown",
   "source": [
    "4. 背后的原理\n",
    "    1. 实例调用类的函数时，存储在类词典中的函数将被转换为方法。方法与常规函数的不同之处仅在于对象实例被置于其他参数之前。方法与常规函数的不同之处仅在于第一个参数是为对象实例保留的。按照惯例，实例引用称为 self\n",
    "    2. 实例访问类中的函数时，函数被实例调用，自动把这个实例作为参数，在描述器里面自动执行__get__方法，返回一个方法\n",
    "    3. 没有显示的写出描述器，他们是隐式的吗，在函数内部\n",
    "   "
   ],
   "metadata": {
    "collapsed": false
   },
   "id": "c39df9e3e1873d4f"
  },
  {
   "cell_type": "code",
   "execution_count": 14,
   "outputs": [
    {
     "name": "stdout",
     "output_type": "stream",
     "text": [
      "7\n"
     ]
    },
    {
     "data": {
      "text/plain": "'\\n一般会自动创建方法\\n每个函数都有__get__描述器方法，以便在属性访问时绑定其为方法。\\n这意味着函数其是非数据描述器，它在通过实例进行点查找时返回绑定方法\\n'"
     },
     "execution_count": 14,
     "metadata": {},
     "output_type": "execute_result"
    }
   ],
   "source": [
    "\"\"\"\n",
    "函数与方法的绑定等价实现\n",
    "\"\"\"\n",
    "\n",
    "#即函数的__get__方法的等价实现，实现了一个类装饰器\n",
    "class Methodtype:\n",
    "    def __init__(self,func,obj):\n",
    "        self.func = func\n",
    "        self.obj = obj\n",
    "        #因为返回的方法也是可调用的，实现__call__方法，是内置方法\n",
    "        #用callable判断是不是可调用的\n",
    "    def __call__(self,*args,**kwargs):\n",
    "        func=self.func\n",
    "        obj=self.obj\n",
    "        #解释了为什么第一个参数是self或者是cls\n",
    "        return func(obj,*args,**kwargs)\n",
    "\n",
    "\n",
    "\n",
    "    #实验：将一个函数转化为方法，即实现<函数名>()的调用方式\n",
    "class Calculator:\n",
    "    #此时的add函数只能通过实例调用或者类调用\n",
    "    def add(self, x, y):\n",
    "        return x + y\n",
    "# 创建一个Calculator的实例对象\n",
    "calculator = Calculator()\n",
    "#返回一个方法\n",
    "add_method = Methodtype(Calculator.add,calculator)\n",
    "#实现成功\n",
    "result = add_method(3, 4)\n",
    "print(result)\n",
    "\n",
    "\n",
    "#自动__get__的实现\n",
    "class Function(object):\n",
    "    def __get__(self, obj, objtype=None):\n",
    "        #这里的 objtype可以是对象/类/超类/。。。。\n",
    "        if obj is None:\n",
    "            return self\n",
    "#调用MethodType(self, obj)时实际上是在创建一个MethodType类的实例\n",
    "        return Methodtype(self, obj)\n",
    "\n",
    "\n",
    "\"\"\"\n",
    "一般会自动创建方法\n",
    "每个函数都有__get__描述器方法，以便在属性访问时绑定其为方法。\n",
    "这意味着函数其是非数据描述器，它在通过实例进行点查找时返回绑定方法\n",
    "\"\"\""
   ],
   "metadata": {
    "collapsed": false,
    "ExecuteTime": {
     "end_time": "2024-05-09T16:45:19.831119700Z",
     "start_time": "2024-05-09T16:45:19.779114200Z"
    }
   },
   "id": "8c6ed1dfce95d5dd"
  },
  {
   "cell_type": "code",
   "execution_count": 7,
   "outputs": [
    {
     "name": "stdout",
     "output_type": "stream",
     "text": [
      "实际已经调用这里了\n",
      "通过类调用了\n",
      "<__main__.FunctionMethod object at 0x00000236EE843BE0>\n",
      "next\n",
      "实际已经调用这里了\n",
      "通过实例调用了\n",
      "my_method\n",
      "None\n",
      "next\n"
     ]
    }
   ],
   "source": [
    "\"\"\"\n",
    "又是一个等价实现！！！像绑定属性一样，绑定函数,用类装饰器\n",
    "\"\"\"\n",
    "class FunctionMethod:\n",
    "    def __init__(self, func):\n",
    "        self.func = func\n",
    "    def __get__(self,obj,objtype=None,*args,**kwargs):\n",
    "        print(\"实际已经调用这里了\")\n",
    "        #判断是什么类型\n",
    "        #描述器的 __get__ 方法中，通常会根据 obj 参数的值来决定返回什么。\n",
    "        # 如果 obj 是 None，表示这个方法是通过类访问的，应该返回描述器本身。\n",
    "        # 否则，应该返回一个新的方法对象\n",
    "        if obj is None:\n",
    "            print(\"通过类调用了\")\n",
    "            return self\n",
    "            #return self.func则返回传入的函数\n",
    "        print(\"通过实例调用了\")\n",
    "        return self.func(obj,*args,**kwargs)\n",
    "    \n",
    "    def __call__(self, *args, **kwargs):\n",
    "        pass\n",
    "class MyClass():\n",
    "    @FunctionMethod\n",
    "    def my_method(self):\n",
    "        print(\"my_method\")\n",
    "        #return \"hello\"\n",
    "\n",
    "print(MyClass.my_method)\n",
    "print(\"next\")\n",
    "#<__main__.FunctionMethod object at 0x000001AADD80A0D0>\n",
    "# 返回了描述器本身，在这里就是返回了装饰器\n",
    "\n",
    "my_class=MyClass()\n",
    "#<bound method MyClass.my_method of <__main__.MyClass object at 0x0000022263F0A190>>\n",
    "print(my_class.my_method)\n",
    "print(\"next\")\n",
    "\n"
   ],
   "metadata": {
    "collapsed": false,
    "ExecuteTime": {
     "end_time": "2024-05-10T10:42:05.151335500Z",
     "start_time": "2024-05-10T10:42:05.143879400Z"
    }
   },
   "id": "f54f0fc6f9e5c72c"
  },
  {
   "cell_type": "code",
   "execution_count": 2,
   "outputs": [
    {
     "name": "stdout",
     "output_type": "stream",
     "text": [
      "3\n",
      "3\n",
      "None\n",
      "next\n",
      "3\n"
     ]
    }
   ],
   "source": [
    "\"一个需要的注意\"\n",
    "def add(x,y):\n",
    "    print(x+y)\n",
    "def test():\n",
    "    return add(1,2)\n",
    "test()\n",
    "#之所以输出结果是3和None，是因为test()输出是3，在print他结果就是None\n",
    "print(test())\n",
    "print(\"next\")\n",
    "def add_1(x,y):\n",
    "    return x+y\n",
    "def test_1():\n",
    "    return add_1(1,2)\n",
    "test_1()\n",
    "#之所以输出结果是3和None，是因为test()输出是3，在print他结果就是None\n",
    "print(test_1())"
   ],
   "metadata": {
    "collapsed": false,
    "ExecuteTime": {
     "end_time": "2024-05-10T09:58:59.245597500Z",
     "start_time": "2024-05-10T09:58:59.216219400Z"
    }
   },
   "id": "e10c2fae1c30d8af"
  },
  {
   "cell_type": "code",
   "execution_count": null,
   "outputs": [],
   "source": [],
   "metadata": {
    "collapsed": false
   },
   "id": "11c64063619a78c9"
  },
  {
   "cell_type": "code",
   "execution_count": null,
   "outputs": [],
   "source": [],
   "metadata": {
    "collapsed": false
   },
   "id": "32f5d42ce0e49937"
  },
  {
   "cell_type": "markdown",
   "source": [
    "super的用法\n",
    "(https://rhettinger.wordpress.com/2011/05/26/super-considered-super/)\n",
    "(https://www.youtube.com/watch?v=X1PQ7zzltz4&list=PLNZHF9CMm7P1CBKcn8I2vtZB487FNUPKm&index=16)\n",
    "\n",
    "1. 一个关键的区别就是新式类能够从python的内置类型中继承，而经典类不行\n",
    "2.  C3 线性化算法，广度优先，MRO\n",
    "3. MRO不只是对方法的搜索，也是对属性的搜索"
   ],
   "metadata": {
    "collapsed": false
   },
   "id": "e201df4566420654"
  },
  {
   "cell_type": "markdown",
   "source": [
    "使用super时的建议\n",
    "1. 使用固定参数-保证传入的参数正确\n",
    "2. 对于一个方法，只要有一个实现了super，其他的父类也要实现，但是最后的Root可以中断-保证了一定调用父类的对应方法\n",
    "3. 使用参数的分割，关联super和类——关键字分离\n",
    "4. super实际也是一个类，调用super实际上创建了当前类第的一个代理对象，自动传入self参数，注意，与已经创建的当前类的对象不同\n",
    "5. 用mro查看顺序\n",
    "6. 通过实例的super和通过类的super\n",
    "7. 层次结构中的类都必须继承自某个Root类，比如A继承自B,C，还有一个Root类，此时B,C必须继承Root\n",
    "8. "
   ],
   "metadata": {
    "collapsed": false
   },
   "id": "deedaa5c97e8dc09"
  },
  {
   "cell_type": "code",
   "execution_count": null,
   "outputs": [],
   "source": [],
   "metadata": {
    "collapsed": false
   },
   "id": "8daf5f78639354ef"
  },
  {
   "cell_type": "markdown",
   "source": [
    "### 新式类主要默认继承了object,查看他实现的方法"
   ],
   "metadata": {
    "collapsed": false
   },
   "id": "4bf7c0e731eb7263"
  },
  {
   "cell_type": "code",
   "execution_count": null,
   "outputs": [],
   "source": [
    "print(dir(object))"
   ],
   "metadata": {
    "collapsed": false
   },
   "id": "7740af21e138071d"
  },
  {
   "cell_type": "markdown",
   "source": [
    "###### 类中的内置方法,类可以通过定义具有特殊名称的方法来实现由特殊语法调用的某些操作\n",
    "## 即魔术方法\n",
    "有些方法之所以不用显示的写出，是因为他们自动的使用了父类object的方法"
   ],
   "metadata": {
    "collapsed": false
   },
   "id": "94a8bcba30119056"
  },
  {
   "cell_type": "markdown",
   "source": [
    "__del__ 方法,用于在对象被销毁（即垃圾回收）时执行一些清理操作\n",
    "不需要再函数中显示写出,也可以删除类中的方法,属性"
   ],
   "metadata": {
    "collapsed": false
   },
   "id": "83afe3d41639ba32"
  },
  {
   "cell_type": "code",
   "execution_count": 3,
   "outputs": [
    {
     "name": "stdout",
     "output_type": "stream",
     "text": [
      "1\n"
     ]
    },
    {
     "ename": "NameError",
     "evalue": "name 'obj' is not defined",
     "output_type": "error",
     "traceback": [
      "\u001B[1;31m---------------------------------------------------------------------------\u001B[0m",
      "\u001B[1;31mNameError\u001B[0m                                 Traceback (most recent call last)",
      "Cell \u001B[1;32mIn[3], line 12\u001B[0m\n\u001B[0;32m     10\u001B[0m \u001B[38;5;28mprint\u001B[39m(obj\u001B[38;5;241m.\u001B[39mx)\n\u001B[0;32m     11\u001B[0m \u001B[38;5;28;01mdel\u001B[39;00m obj\n\u001B[1;32m---> 12\u001B[0m \u001B[38;5;28mprint\u001B[39m(\u001B[43mobj\u001B[49m\u001B[38;5;241m.\u001B[39mx)\n\u001B[0;32m     13\u001B[0m \u001B[38;5;28;01mdel\u001B[39;00m obj\u001B[38;5;241m.\u001B[39madd\n\u001B[0;32m     14\u001B[0m \u001B[38;5;66;03m# 删除对象的引用，触发对象销毁\u001B[39;00m\n",
      "\u001B[1;31mNameError\u001B[0m: name 'obj' is not defined"
     ]
    }
   ],
   "source": [
    "class MyClass:\n",
    "    def __init__(self, x, y):\n",
    "        self.x = x\n",
    "        self.y = y\n",
    "        \n",
    "    def add(self,a,b):\n",
    "        return a+b\n",
    "# 创建一个对象\n",
    "obj = MyClass(1,2)\n",
    "\n",
    "print(obj.x)\n",
    "del obj\n",
    "print(obj.x)\n",
    "del obj.add\n",
    "# 删除对象的引用，触发对象销毁"
   ],
   "metadata": {
    "collapsed": false,
    "ExecuteTime": {
     "end_time": "2024-09-12T14:23:50.021327Z",
     "start_time": "2024-09-12T14:23:49.969888300Z"
    }
   },
   "id": "150fcc03327307a9"
  },
  {
   "cell_type": "markdown",
   "source": [
    "__repr__ 方法,返回表示对象的字符串，通常用于调试和打印对象时使用,需要写出\n",
    "可以定义输出结果的方式,直接打印对象时才调用"
   ],
   "metadata": {
    "collapsed": false
   },
   "id": "25b85d3bc9d77470"
  },
  {
   "cell_type": "code",
   "execution_count": 1,
   "outputs": [
    {
     "name": "stdout",
     "output_type": "stream",
     "text": [
      "Point(1, y=2)\n",
      "False\n",
      "False\n"
     ]
    }
   ],
   "source": [
    "class Point:\n",
    "    def __init__(self, x, y):\n",
    "        self.x = x\n",
    "        self.y = y\n",
    "    def  __eq__(self, other): \n",
    "        return self.x == other.x and self.y == other.y\n",
    "    def __repr__(self):\n",
    "        return f\"Point({self.x}, y={self.y})\"\n",
    "    \n",
    "# 创建一个 Point 对象\n",
    "point = Point(1,2)\n",
    "point_two=Point(3,4)\n",
    "# 调用 __repr__ 方法\n",
    "print(repr(point))\n",
    "print(point.__eq__(point_two))\n",
    "print(point_two==point)\n"
   ],
   "metadata": {
    "collapsed": false,
    "ExecuteTime": {
     "end_time": "2024-05-05T15:48:19.509881200Z",
     "start_time": "2024-05-05T15:48:19.491356600Z"
    }
   },
   "id": "ec7cf121423a1973"
  },
  {
   "cell_type": "markdown",
   "source": [
    "__len__ 方法,返回对象的长度，用于内置函数 len() 的调用\n",
    "因为此时len函数的参数变成了类的对象，在len内部，已经定义了要测量长度的实例的属性"
   ],
   "metadata": {
    "collapsed": false
   },
   "id": "1ddcf08bbf331cb2"
  },
  {
   "cell_type": "code",
   "execution_count": 8,
   "outputs": [
    {
     "name": "stdout",
     "output_type": "stream",
     "text": [
      "5\n"
     ]
    }
   ],
   "source": [
    "class MyList:\n",
    "    def __init__(self, data):\n",
    "        self.data = data\n",
    "    def __len__(self):\n",
    "        return len(self.data)\n",
    "    \n",
    "\n",
    "# 创建一个 MyList 对象\n",
    "my_list = MyList([1, 2, 3, 4, 5])\n",
    "# 调用 __len__ 方法\n",
    "print(len(my_list))  # 输出 5\n"
   ],
   "metadata": {
    "collapsed": false,
    "ExecuteTime": {
     "end_time": "2024-04-09T05:46:32.364969600Z",
     "start_time": "2024-04-09T05:46:32.356749700Z"
    }
   },
   "id": "e3b13b3bde523644"
  },
  {
   "cell_type": "markdown",
   "source": [
    "__getitem__ 方法,用于实现对象索引操作,高度可自定义"
   ],
   "metadata": {
    "collapsed": false
   },
   "id": "4cddff333c92da3"
  },
  {
   "cell_type": "code",
   "execution_count": 9,
   "outputs": [
    {
     "name": "stdout",
     "output_type": "stream",
     "text": [
      "3\n"
     ]
    }
   ],
   "source": [
    "class MyList:\n",
    "    def __init__(self, data):\n",
    "        self.data = data\n",
    "\n",
    "    def __getitem__(self, index):\n",
    "        return self.data[index]\n",
    "\n",
    "my_list = MyList([1, 2, 3, 4, 5])\n",
    "print(my_list[2])\n"
   ],
   "metadata": {
    "collapsed": false,
    "ExecuteTime": {
     "end_time": "2024-04-09T05:48:57.592440200Z",
     "start_time": "2024-04-09T05:48:57.567906900Z"
    }
   },
   "id": "7c3be43e4b2a86f6"
  },
  {
   "cell_type": "markdown",
   "source": [
    "实际上就是实现了列表List类的方法，只不过可以自定义了\n",
    "__setitem__(self, key, value): 设置对象的元素，支持通过索引或键来设置元素的值\n",
    "__delitem__(self, key): 删除对象的元素，支持通过索引或键来删除元素。\n",
    "__contains__(self, item): 判断对象是否包含某个元素。通常用于实现成员关系测试操作符 in。"
   ],
   "metadata": {
    "collapsed": false
   },
   "id": "1291fa1ed0a51fa1"
  },
  {
   "cell_type": "code",
   "execution_count": null,
   "outputs": [],
   "source": [
    "class MyList:\n",
    "    def __init__(self, data):\n",
    "        self.data = data\n",
    "\n",
    "    def __setitem__(self, index, value):\n",
    "        self.data[index] = value\n",
    "    def __delitem__(self, index):\n",
    "        del self.data[index]\n",
    "    def __contains__(self, item):\n",
    "         return item in self.data\n",
    "    def __iter__(self):\n",
    "        return iter(self.data)\n",
    "my_list = MyList([1, 2, 3, 4, 5])\n",
    "my_list[2] = 10\n",
    "del my_list[1]\n",
    "print(my_list.data)\n",
    "\n",
    "print(10 in my_list)\n",
    "for item in my_list:\n",
    "    print(item)"
   ],
   "metadata": {
    "collapsed": false
   },
   "id": "f70653632cd9a3aa"
  },
  {
   "cell_type": "markdown",
   "source": [
    "__getattr__(self, name)小心无限循环\n",
    "1. 用于在访问不存在的属性时进行处理，如果没有找到某个属性，它可以提供一个默认的值或者执行其他自定义的逻辑\n",
    "2. (https://www.cnblogs.com/huchong/p/8287799.html)\n"
   ],
   "metadata": {
    "collapsed": false
   },
   "id": "b6fdc508933e6e51"
  },
  {
   "cell_type": "code",
   "execution_count": 4,
   "outputs": [
    {
     "name": "stdout",
     "output_type": "stream",
     "text": [
      "{'classname': 'ClassA'}\n",
      "ClassA\n",
      "('invoke __getattr__', 'grade')\n"
     ]
    }
   ],
   "source": [
    "class ClassA(object):\n",
    "\n",
    "    def __init__(self, classname):\n",
    "        self.classname = classname\n",
    "\n",
    "    def __getattr__(self, attr):\n",
    "        #还可以加函数什么的，定义一个静态方法\n",
    "        return('invoke __getattr__', attr)\n",
    "\n",
    "\n",
    "insA = ClassA('ClassA')\n",
    "print(insA.__dict__) # 实例insA已经有classname属性了\n",
    "# {'classname': 'ClassA'}\n",
    "\n",
    "print(insA.classname) # 不会调用__getattr__\n",
    "# ClassA\n",
    "\n",
    "print(insA.grade) # grade属性没有找到，调用__getattr__\n",
    "# ('invoke __getattr__', 'grade')\n"
   ],
   "metadata": {
    "collapsed": false,
    "ExecuteTime": {
     "end_time": "2024-09-12T14:51:38.201934600Z",
     "start_time": "2024-09-12T14:51:38.165813200Z"
    }
   },
   "id": "aecf73aaf4cd074e"
  },
  {
   "cell_type": "markdown",
   "source": [
    "__getattribute__小心无限循环\n",
    "__getattribute__方法一直会被调用，无论属性name是否追溯到\n",
    "不能访问值！只有记录"
   ],
   "metadata": {
    "collapsed": false
   },
   "id": "72832c94c2a015cc"
  },
  {
   "cell_type": "code",
   "execution_count": 5,
   "outputs": [
    {
     "name": "stdout",
     "output_type": "stream",
     "text": [
      "('invoke __getattribute__', '__dict__')\n",
      "('invoke __getattribute__', 'classname')\n",
      "('invoke __getattribute__', 'grade')\n"
     ]
    }
   ],
   "source": [
    "class ClassA(object):\n",
    "\n",
    "    def __init__(self, classname):\n",
    "        self.classname = classname\n",
    "\n",
    "    def __getattribute__(self, attr):\n",
    "        #return super().__getattribute__(attr)\n",
    "        return('invoke __getattribute__', attr)\n",
    "\n",
    "\n",
    "insA = ClassA('ClassA')\n",
    "print(insA.__dict__)\n",
    "# ('invoke __getattribute__', '__dict__')\n",
    "\n",
    "print(insA.classname)\n",
    "# ('invoke __getattribute__', 'classname')\n",
    "\n",
    "print(insA.grade)\n",
    "# ('invoke __getattribute__', 'grade')"
   ],
   "metadata": {
    "collapsed": false,
    "ExecuteTime": {
     "end_time": "2024-09-12T14:53:27.829702800Z",
     "start_time": "2024-09-12T14:53:27.804413600Z"
    }
   },
   "id": "fcb2313ae27cc3fa"
  },
  {
   "cell_type": "markdown",
   "source": [
    "__setattr__小心无限循环\n",
    "1. 拦截所有属性的的赋值语句\n",
    "2. self.arrt = value 就会变成self.__setattr__(\"attr\", value)\n",
    "3. 如果类自定义了__setattr__方法，当通过实例获取属性尝试赋值时，就会调用__setattr__\n",
    "4. 自己实现__setattr__有很大风险，一般情况都还是继承object类的__setattr__方法。"
   ],
   "metadata": {
    "collapsed": false
   },
   "id": "e0d7b080ab15f420"
  },
  {
   "cell_type": "code",
   "execution_count": null,
   "outputs": [],
   "source": [
    "#object的__setattr__方法\n",
    "class ClassA(object):\n",
    "\n",
    "    def __init__(self, classname):\n",
    "        self.classname = classname\n",
    "\n",
    "insA = ClassA('ClassA')\n",
    "\n",
    "print(insA.__dict__)\n",
    "# {'classname': 'ClassA'}\n",
    "\n",
    "insA.tag = 'insA'    \n",
    "\n",
    "print(insA.__dict__)\n",
    "# {'tag': 'insA', 'classname': 'ClassA'}\n"
   ],
   "metadata": {
    "collapsed": false
   },
   "id": "3844522c5ae8f233"
  },
  {
   "cell_type": "code",
   "execution_count": null,
   "outputs": [],
   "source": [
    "#自己的定义\n",
    "class ClassA(object):\n",
    "    def __init__(self, classname):\n",
    "        self.classname = classname\n",
    "\n",
    "    def __setattr__(self, name, value):\n",
    "        # self.name = value  # 如果还这样调用会出现无限递归的情况\n",
    "        print('invoke __setattr__')\n",
    "\n",
    "insA = ClassA('ClassA') # __init__中的self.classname调用__setattr__。\n",
    "# invoke __setattr__\n",
    "\n",
    "print(insA.__dict__)\n",
    "# {}\n",
    "\n",
    "insA.tag = 'insA'    \n",
    "# invoke __setattr__\n",
    "\n",
    "print(insA.__dict__)\n",
    "# {}"
   ],
   "metadata": {
    "collapsed": false
   },
   "id": "fdbda0f039ef5075"
  },
  {
   "cell_type": "code",
   "execution_count": null,
   "outputs": [],
   "source": [],
   "metadata": {
    "collapsed": false
   },
   "id": "f49cd32716eff4fb"
  },
  {
   "cell_type": "markdown",
   "source": [
    "__new__方法(https://www.youtube.com/watch?v=-zsV0_QrfTw)\n",
    "1. 创建实例时，__init__和__new__都会被调用\n",
    "2. new负责创建和返回实例对象——所以定义的new方法会有return——一个对象，而init负责初始化，设置默认值等等——没有return\n",
    "3. new是一个类方法，接受要返回的实例的类，也就是要创建A的实例，则传入A\n",
    "4. 可以在创建对象也就是在__new__方法中，做一些对数据的改变\n",
    "5. 这样的写法是高性能的，对于python中C的扩展，尽量编写少的python语言，提高性能"
   ],
   "metadata": {
    "collapsed": false
   },
   "id": "a019f0bc46d4b1fd"
  },
  {
   "cell_type": "code",
   "execution_count": 7,
   "outputs": [
    {
     "name": "stdout",
     "output_type": "stream",
     "text": [
      "new_here <class '__main__.A'> 2 8\n",
      "__init__，初始化 <__main__.A object at 0x000002B29C05D040> (1,) {'b': 8}\n"
     ]
    }
   ],
   "source": [
    "class A:\n",
    "    def __new__(cls, a, b):\n",
    "        \"\"\"\n",
    "        一个类方法\n",
    "        :param args: \n",
    "        :param kwargs: \n",
    "        \"\"\"\n",
    "        a = a + 1\n",
    "        print(\"new_here\", cls, a, b)\n",
    "        #return——返回实例对象，如果去掉这行，则__init__不会调用\n",
    "        return super().__new__(cls)\n",
    "    \n",
    "    def __init__(self,*args,**kwargs):\n",
    "        print(\"__init__，初始化\", self, args, kwargs)\n",
    "\n",
    "I=A(1, b=8)\n",
    "\n"
   ],
   "metadata": {
    "collapsed": false,
    "ExecuteTime": {
     "end_time": "2024-09-14T04:32:51.314812200Z",
     "start_time": "2024-09-14T04:32:51.282329800Z"
    }
   },
   "id": "9b80375761a07653"
  },
  {
   "cell_type": "markdown",
   "source": [],
   "metadata": {
    "collapsed": false
   },
   "id": "4086aeef414fbaad"
  },
  {
   "cell_type": "markdown",
   "source": [],
   "metadata": {
    "collapsed": false
   },
   "id": "d46c2335c040e8c1"
  },
  {
   "cell_type": "markdown",
   "source": [
    "cls 和 self cls表明可以访问类的属性和方法，self 访问实例的属性和方法，"
   ],
   "metadata": {
    "collapsed": false
   },
   "id": "4efacea9d6e0507d"
  },
  {
   "cell_type": "code",
   "execution_count": 9,
   "outputs": [
    {
     "name": "stdout",
     "output_type": "stream",
     "text": [
      "This is a class method\n",
      "Accessing class variable: I am a class variable\n",
      "None\n",
      "This is an instance method\n",
      "Accessing instance variable: ghj\n",
      "None\n",
      "160\n"
     ]
    }
   ],
   "source": [
    "class MyClass:\n",
    "    '类属性'\n",
    "    calss_num = 8\n",
    "    class_variable = \"I am a class variable\"\n",
    "    def __init__(self,instance_variable):\n",
    "        \"实例属性，cls 不可以访问,但是可以通过MyClass.class_variable访问类属性,MyClass.class_method()访问类方法\"\n",
    "        self.instance_variable = instance_variable\n",
    "    @classmethod\n",
    "    def class_method(cls):\n",
    "        print(\"This is a class method\")\n",
    "        print(\"Accessing class variable:\", cls.class_variable)\n",
    "    def instance_method(self):\n",
    "        print(\"This is an instance method\")\n",
    "        print(\"Accessing instance variable:\", self.instance_variable)\n",
    "    @classmethod\n",
    "    def add(cls, a, b):\n",
    "        return  a+b\n",
    "    @classmethod\n",
    "    def multi(cls,c):\n",
    "        return c*cls.add(2,2)*cls.calss_num\n",
    "\n",
    "print(MyClass.class_method())\n",
    "\n",
    "instance=MyClass(\"ghj\")\n",
    "\n",
    "print(instance.instance_method())\n",
    "\n",
    "print(MyClass.multi(5))"
   ],
   "metadata": {
    "collapsed": false,
    "ExecuteTime": {
     "end_time": "2024-09-14T04:37:30.079982300Z",
     "start_time": "2024-09-14T04:37:30.061977Z"
    }
   },
   "id": "d7c50edcf339dc43"
  },
  {
   "cell_type": "markdown",
   "source": [
    "以下划线开头的一般为私有变量，不能直接访问。\n",
    "porperty装饰器，加上之后只需要先实例化如：p ，然后使用p.prop就相当于调用方法，可以用@prop.setter操控属性的值等等\n",
    "不需要在调用时使用括号\n",
    "创建只读属性,用prop.setter和prop.deleter变为可写功能\n",
    "读写方法名必须上下一致"
   ],
   "metadata": {
    "collapsed": false
   },
   "id": "f46193e9e0659836"
  },
  {
   "cell_type": "code",
   "execution_count": 10,
   "outputs": [
    {
     "name": "stdout",
     "output_type": "stream",
     "text": [
      "5\n",
      "10\n",
      "10\n",
      "删除属性\n"
     ]
    }
   ],
   "source": [
    "class Prop():\n",
    "    def __init__(self,num):\n",
    "        self._nums=num\n",
    "    @property\n",
    "    def prop(self):\n",
    "        return self._nums\n",
    "\n",
    "    @prop.setter\n",
    "    def prop(self,value):\n",
    "        if value>=0:\n",
    "            self._nums=value\n",
    "        else:\n",
    "            raise ValueError(\"必须大于等于0\")\n",
    "        \n",
    "    @prop.deleter\n",
    "    def prop(self):\n",
    "        print(\"删除属性\")\n",
    "        del self._nums\n",
    "p=Prop(5)\n",
    "print(p.prop)\n",
    "p.num=10\n",
    "print(p.prop)\n",
    "del  p.prop"
   ],
   "metadata": {
    "collapsed": false,
    "ExecuteTime": {
     "end_time": "2024-05-01T04:44:16.540735400Z",
     "start_time": "2024-05-01T04:44:16.527738400Z"
    }
   },
   "id": "508df01fb96ff93c"
  },
  {
   "cell_type": "markdown",
   "source": [
    "静态方法，使用@staticmethod装饰器，静态方法不需要实例化，直接类名.方法名()调用,他只是在类里，但是没有明确的关系，不需要传入self或者cls等第一个参数，他与类是独立的，不访问类的属性或方法\n",
    "静态方法还可以创建实例调用，同时传入参数，此时实例不算做参数传入\n",
    "类方法，使用@classmethod装饰器，类方法需要传入cls参数，cls代表类本身，他可以访问类属性，第一个参数是cls,可以访问类属性类方法，包括@staticmethod方法"
   ],
   "metadata": {
    "collapsed": false
   },
   "id": "d1890d31f3d85b89"
  },
  {
   "cell_type": "code",
   "execution_count": 3,
   "outputs": [
    {
     "name": "stdout",
     "output_type": "stream",
     "text": [
      "5\n",
      "66\n"
     ]
    },
    {
     "ename": "NameError",
     "evalue": "name 'test_1' is not defined",
     "output_type": "error",
     "traceback": [
      "\u001B[1;31m---------------------------------------------------------------------------\u001B[0m",
      "\u001B[1;31mNameError\u001B[0m                                 Traceback (most recent call last)",
      "Cell \u001B[1;32mIn[3], line 16\u001B[0m\n\u001B[0;32m     14\u001B[0m \u001B[38;5;28mprint\u001B[39m(MyClass_one\u001B[38;5;241m.\u001B[39madd_two(\u001B[38;5;241m2\u001B[39m,\u001B[38;5;241m3\u001B[39m))\n\u001B[0;32m     15\u001B[0m \u001B[38;5;28mprint\u001B[39m(MyClass_one\u001B[38;5;241m.\u001B[39mmulti_two(\u001B[38;5;241m2\u001B[39m,\u001B[38;5;241m3\u001B[39m))\n\u001B[1;32m---> 16\u001B[0m \u001B[38;5;28mprint\u001B[39m(\u001B[43mMyClass_one\u001B[49m\u001B[38;5;241;43m.\u001B[39;49m\u001B[43madd\u001B[49m\u001B[43m(\u001B[49m\u001B[38;5;241;43m1\u001B[39;49m\u001B[43m)\u001B[49m)\n",
      "Cell \u001B[1;32mIn[3], line 13\u001B[0m, in \u001B[0;36mMyClass_one.add\u001B[1;34m(x)\u001B[0m\n\u001B[0;32m     11\u001B[0m \u001B[38;5;129m@staticmethod\u001B[39m\n\u001B[0;32m     12\u001B[0m \u001B[38;5;28;01mdef\u001B[39;00m \u001B[38;5;21madd\u001B[39m(x):\n\u001B[1;32m---> 13\u001B[0m     \u001B[38;5;28;01mreturn\u001B[39;00m x\u001B[38;5;241m+\u001B[39m\u001B[43mtest_1\u001B[49m\n",
      "\u001B[1;31mNameError\u001B[0m: name 'test_1' is not defined"
     ]
    }
   ],
   "source": [
    "class MyClass_one:\n",
    "    test_1=10\n",
    "    test_2=20\n",
    "    @staticmethod\n",
    "    def add_two(a,b):\n",
    "        return a+b\n",
    "    @classmethod\n",
    "    def multi_two(cls,a,b):\n",
    "        return a*b*cls.add_two(5,6)\n",
    "    #体现静态方法与类的隔离的示例\n",
    "    @staticmethod\n",
    "    def add(x):\n",
    "        return x+test_1  #NameError: name 'test_1' is not defined\n",
    "print(MyClass_one.add_two(2,3))\n",
    "print(MyClass_one.multi_two(2,3))\n",
    "print(MyClass_one.add(1))"
   ],
   "metadata": {
    "collapsed": false,
    "ExecuteTime": {
     "end_time": "2024-05-31T12:13:20.748278600Z",
     "start_time": "2024-05-31T12:13:20.676652700Z"
    }
   },
   "id": "d563ae790351c521"
  },
  {
   "cell_type": "code",
   "execution_count": null,
   "outputs": [],
   "source": [],
   "metadata": {
    "collapsed": false
   },
   "id": "e5c89fdecdc11f40"
  },
  {
   "cell_type": "code",
   "execution_count": null,
   "outputs": [],
   "source": [],
   "metadata": {
    "collapsed": false
   },
   "id": "cae394877c699a7b"
  },
  {
   "cell_type": "markdown",
   "source": [
    "LEGB法则： Python会按照优先级依次搜索4个作用域，以此来确定该变量名的意义。首先搜索局部作用域(L)，之后是上一层嵌套结构中def或lambda函数的嵌套作用域(E)，之后是全局作用域(G)，最后是内置作用域(B)。按这个查找原则，在第一处找到的地方停止。如果没有找到，则会出发NameError错误"
   ],
   "metadata": {
    "collapsed": false
   },
   "id": "2bc01c2e027cbb05"
  },
  {
   "cell_type": "code",
   "execution_count": null,
   "outputs": [],
   "source": [],
   "metadata": {
    "collapsed": false
   },
   "id": "6f9dd2a974027469"
  },
  {
   "cell_type": "code",
   "execution_count": null,
   "outputs": [],
   "source": [],
   "metadata": {
    "collapsed": false
   },
   "id": "885aa0a691f8d8b8"
  },
  {
   "cell_type": "code",
   "execution_count": null,
   "outputs": [],
   "source": [],
   "metadata": {
    "collapsed": false
   },
   "id": "2282524bf69a31d1"
  },
  {
   "cell_type": "markdown",
   "source": [
    "1. 类的dataclass装饰器，使用@dataclass装饰器，会自动生成__init__,__repr__,__eq__,__ne__,__lt__,__le__,__gt__,__ge__,__hash__等方法\n",
    "2. 默认情况下，dataclass创建的实例是可变的，但你可以通过frozen=True参数使其成为不可变的：\n",
    "3. 不需要定义__eq__和__lt__方法，因为当order = True被调用时，dataclass 装饰器会自动将它们添加到我们的类定义中\n",
    "后初始化处理__post_init__,生成的__init__方法在返回之前 调用__post_init__返回。因此，可以在函数中进行任何处理\n",
    "4. 如果在继承子类中要连续调用父类的后期初始化方法，需要用到super()\n",
    "default_factory必须是一个可以调用的 无参数方法（通常为一个函数）\n",
    "5. MRO是Method Resolution Order的缩写，指的是在多重继承中确定方法调用顺序的算法（C3和深度优先）(http://www.cnblogs.com/btchenguang/archive/2012/09/17/2689146.html)"
   ],
   "metadata": {
    "collapsed": false
   },
   "id": "9d1c7b41ebb91b7"
  },
  {
   "cell_type": "code",
   "execution_count": 28,
   "outputs": [
    {
     "name": "stdout",
     "output_type": "stream",
     "text": [
      "[1, 2, 3, 4, 5, 6, 7, 8, 9]\n",
      "100\n",
      "True\n",
      "100\n"
     ]
    }
   ],
   "source": [
    "from dataclasses import dataclass,field\n",
    "from typing import ClassVar,List\n",
    "\"\"\"给装饰器添加参数\"\"\"\n",
    "def num():\n",
    "    return [x for x in range(1,10)]\n",
    "@dataclass(frozen=False,init=True,repr=True,order=True)\n",
    "class test_two():\n",
    "    name:str\n",
    "    age:int\n",
    "    class_var:ClassVar[int]=100\n",
    "    #score:List[int]=field(default_factory=num)\n",
    "    \"\"\"添加自定义方法\"\"\"\n",
    "    @classmethod\n",
    "    def global_var(cls):\n",
    "        return cls.class_var\n",
    "#print(test_two(\"ghj\",19).score)\n",
    "ins=test_two(\"ghj\",19)\n",
    "print(ins.class_var)\n",
    "print(ins.age<ins.class_var)\n",
    "print(ins.global_var())"
   ],
   "metadata": {
    "collapsed": false,
    "ExecuteTime": {
     "end_time": "2024-05-01T06:43:21.927494700Z",
     "start_time": "2024-05-01T06:43:21.906036800Z"
    }
   },
   "id": "34bdef61d9511a3e"
  },
  {
   "cell_type": "markdown",
   "source": [
    "如果通过__post_init__初始化,在这个例子中要传入一个空列表，不如field方便"
   ],
   "metadata": {
    "collapsed": false
   },
   "id": "75e4a6d0a78958b"
  },
  {
   "cell_type": "code",
   "execution_count": null,
   "outputs": [],
   "source": [
    "\n",
    "@dataclass(frozen=False,init=True,repr=True,order=True)\n",
    "class test_three(test_two):\n",
    "    hobby:str\n",
    "    grade:List[int]=10\n",
    "    def __post_init__(self):\n",
    "        self.finall_score=self.grade+self.score\n",
    "instance=test_three(\"ghj\",age=19,hobby=\"yut\")\n",
    "print(instance.finall_score)"
   ],
   "metadata": {
    "collapsed": false
   },
   "id": "78f7e3acf40a6d8a"
  },
  {
   "cell_type": "code",
   "execution_count": null,
   "outputs": [],
   "source": [],
   "metadata": {
    "collapsed": false
   },
   "id": "c33bcf178ac6a69b"
  },
  {
   "cell_type": "code",
   "execution_count": null,
   "outputs": [],
   "source": [],
   "metadata": {
    "collapsed": false
   },
   "id": "915f0491eb88636d"
  },
  {
   "cell_type": "markdown",
   "source": [
    "dataclass继承dataclass"
   ],
   "metadata": {
    "collapsed": false
   },
   "id": "5009b9f4f5a7d9e8"
  },
  {
   "cell_type": "markdown",
   "source": [
    "hasattr用于检查一个对象是否具有指定的属性。它接受两个参数，第一个参数是要检查的对象，第二个参数是要检查的属性名"
   ],
   "metadata": {
    "collapsed": false
   },
   "id": "a6fc9ab325dd96f9"
  },
  {
   "cell_type": "code",
   "execution_count": 10,
   "outputs": [
    {
     "name": "stdout",
     "output_type": "stream",
     "text": [
      "True\n",
      "True\n"
     ]
    }
   ],
   "source": [
    "class MyClass_one:\n",
    "    num=8\n",
    "    #换成静态方法和实例方法，类方法都可以检测\n",
    "    def add_two(self,a,b):\n",
    "        return a+b\n",
    "print(hasattr(MyClass_one,'num'))\n",
    "print(hasattr(MyClass_one,'add_two'))"
   ],
   "metadata": {
    "collapsed": false,
    "ExecuteTime": {
     "end_time": "2024-09-14T04:54:36.219027900Z",
     "start_time": "2024-09-14T04:54:36.169632700Z"
    }
   },
   "id": "153f2a2b75827412"
  },
  {
   "cell_type": "markdown",
   "source": [
    "__new__"
   ],
   "metadata": {
    "collapsed": false
   },
   "id": "4e5ed80549e09737"
  },
  {
   "cell_type": "code",
   "execution_count": null,
   "outputs": [],
   "source": [],
   "metadata": {
    "collapsed": false
   },
   "id": "3d3279afe05d653c"
  },
  {
   "cell_type": "code",
   "execution_count": null,
   "outputs": [],
   "source": [],
   "metadata": {
    "collapsed": false
   },
   "id": "f01836a49e3a1c99"
  },
  {
   "cell_type": "markdown",
   "source": [
    "抽象类\n",
    "1. Python默认不支持抽象类和抽象方法，因此有一个名为ABC（abstract baseclasses）的包，通过它我们可以将类或方法抽象化\n",
    "2. 当一个类继承ABC类，并且是至少有一个抽象方法，才是抽象类\n",
    "3. 继承抽象类的类，如果没有定义父类中存在的所有抽象方法，那么子类也会自动成为抽象类\n",
    "4. 抽象类无法实例化"
   ],
   "metadata": {
    "collapsed": false
   },
   "id": "1fc1c81da219fb29"
  },
  {
   "cell_type": "code",
   "execution_count": 1,
   "outputs": [
    {
     "name": "stdout",
     "output_type": "stream",
     "text": [
      "{'__module__': '__main__', 'test': <function T.test at 0x000001EA7B6F6EE0>, '__dict__': <attribute '__dict__' of 'T' objects>, '__weakref__': <attribute '__weakref__' of 'T' objects>, '__doc__': None, '__abstractmethods__': frozenset({'test'}), '_abc_impl': <_abc._abc_data object at 0x000001EA7B6F76C0>}\n"
     ]
    },
    {
     "ename": "TypeError",
     "evalue": "Can't instantiate abstract class T with abstract method test",
     "output_type": "error",
     "traceback": [
      "\u001B[1;31m---------------------------------------------------------------------------\u001B[0m",
      "\u001B[1;31mTypeError\u001B[0m                                 Traceback (most recent call last)",
      "Cell \u001B[1;32mIn[1], line 8\u001B[0m\n\u001B[0;32m      6\u001B[0m         \u001B[38;5;28;01mpass\u001B[39;00m\n\u001B[0;32m      7\u001B[0m \u001B[38;5;28mprint\u001B[39m(T\u001B[38;5;241m.\u001B[39m\u001B[38;5;18m__dict__\u001B[39m)\n\u001B[1;32m----> 8\u001B[0m t\u001B[38;5;241m=\u001B[39m\u001B[43mT\u001B[49m\u001B[43m(\u001B[49m\u001B[43m)\u001B[49m\n",
      "\u001B[1;31mTypeError\u001B[0m: Can't instantiate abstract class T with abstract method test"
     ]
    }
   ],
   "source": [
    "#4\n",
    "from abc import ABC,abstractmethod\n",
    "class T(ABC):\n",
    "    @abstractmethod\n",
    "    def test(self):\n",
    "        pass\n",
    "print(T.__dict__)\n",
    "t=T()"
   ],
   "metadata": {
    "collapsed": false,
    "ExecuteTime": {
     "end_time": "2024-05-31T10:44:13.683451800Z",
     "start_time": "2024-05-31T10:44:13.439761900Z"
    }
   },
   "id": "e51fd22d154a5e04"
  },
  {
   "cell_type": "code",
   "execution_count": null,
   "outputs": [],
   "source": [
    "#3\n",
    "from abc import ABC, abstractmethod\n",
    "class Person(ABC):\n",
    "    @abstractmethod\n",
    "    def add(self):\n",
    "        pass\n",
    "    @abstractmethod\n",
    "    def mul(self):\n",
    "        pass\n",
    "class Student(Person):\n",
    "    def mul(self):\n",
    "        return 5\n",
    "    def add(self):\n",
    "        return 7\n",
    "A=Student()"
   ],
   "metadata": {
    "collapsed": false
   },
   "id": "c1ded61ef14a7dad"
  }
 ],
 "metadata": {
  "kernelspec": {
   "display_name": "Python 3",
   "language": "python",
   "name": "python3"
  },
  "language_info": {
   "codemirror_mode": {
    "name": "ipython",
    "version": 2
   },
   "file_extension": ".py",
   "mimetype": "text/x-python",
   "name": "python",
   "nbconvert_exporter": "python",
   "pygments_lexer": "ipython2",
   "version": "2.7.6"
  }
 },
 "nbformat": 4,
 "nbformat_minor": 5
}
