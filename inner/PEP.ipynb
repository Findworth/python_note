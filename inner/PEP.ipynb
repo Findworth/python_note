{
 "cells": [
  {
   "cell_type": "markdown",
   "source": [
    "1. 函数缩进"
   ],
   "metadata": {
    "collapsed": false
   },
   "id": "a2bc3e5371765934"
  },
  {
   "cell_type": "code",
   "execution_count": null,
   "outputs": [],
   "source": [
    "\"\"\"函数的参数缩进\"\"\"\n",
    "\"\"\"def long_function_name(\n",
    "        var_one, var_two, \n",
    "        var_three, var_four):\n",
    "    print(var_one)\"\"\"\n",
    "\n",
    "\"\"\"函数调用,与()回车对齐\"\"\"\n",
    "\"\"\"\n",
    "foo = long_function_name(var_one, var_two,\n",
    "                         var_three, var_four)\"\"\"\n",
    "\"\"\"不同的方法OK，也就是Tab\n",
    "foo = long_function_name(\n",
    "    var_one, var_two,\n",
    "    var_three, var_four)\"\"\""
   ],
   "metadata": {
    "collapsed": false
   },
   "id": "d664b8cdfaac1c7f"
  },
  {
   "cell_type": "markdown",
   "source": [
    "2. if 语句缩进"
   ],
   "metadata": {
    "collapsed": false
   },
   "id": "7b27fec90dc042b"
  },
  {
   "cell_type": "code",
   "execution_count": null,
   "outputs": [],
   "source": [
    "\"\"\"\n",
    "if (this_is_one_thing\n",
    "        and that_is_another_thing):\n",
    "    do_something()\"\"\"\n",
    "    "
   ],
   "metadata": {
    "collapsed": false
   },
   "id": "d7e026e50c4761f1"
  },
  {
   "cell_type": "markdown",
   "source": [
    "3. 列表"
   ],
   "metadata": {
    "collapsed": false
   },
   "id": "eba22f6a6e87bb3e"
  },
  {
   "cell_type": "code",
   "execution_count": null,
   "outputs": [],
   "source": [
    "my_list=[\n",
    "    1,2,3,\n",
    "    4,5,6\n",
    "]   "
   ],
   "metadata": {
    "collapsed": false
   },
   "id": "bf256f219dfda88c"
  },
  {
   "cell_type": "markdown",
   "source": [
    "4. 总结：将语句放在(),[],{}换行有隐式行连接，对于某些语句用\\换行"
   ],
   "metadata": {
    "collapsed": false
   },
   "id": "498fa0d0a5b68f6a"
  },
  {
   "cell_type": "code",
   "execution_count": null,
   "outputs": [],
   "source": [
    "with open('/path/to/some/file/you/want/to/read') as file_1,\\\n",
    "     open('/path/to/some/file/being/written', 'w') as file_2:\n",
    "    file_2.write(file_1.read())"
   ],
   "metadata": {
    "collapsed": false
   },
   "id": "6d7675d4f8aa2cd6"
  },
  {
   "cell_type": "markdown",
   "source": [
    "5. 二元运算符的缩进"
   ],
   "metadata": {
    "collapsed": false
   },
   "id": "9331eea9c248797e"
  },
  {
   "cell_type": "code",
   "execution_count": null,
   "outputs": [],
   "source": [
    "\"\"\"\n",
    "income = (gross_wages\n",
    "          + taxable_interest\n",
    "          + (dividends - qualified_dividends)\n",
    "          - ira_deduction\n",
    "          - student_loan_interest)\n",
    "\"\"\""
   ],
   "metadata": {
    "collapsed": false
   },
   "id": "59bd7f8e05a7e636"
  },
  {
   "cell_type": "markdown",
   "source": [
    "6. 空白行"
   ],
   "metadata": {
    "collapsed": false
   },
   "id": "f57363955ea320e8"
  },
  {
   "cell_type": "code",
   "execution_count": null,
   "outputs": [],
   "source": [
    "\"\"\"顶层函数和类定义周围使用两个空白行\"\"\"\n",
    "def function1():\n",
    "    pass\n",
    "\n",
    "\n",
    "class MyClass:\n",
    "    pass\n",
    "\"\"\"类内的方法定义之间使用一个空白行：\"\"\"\n",
    "\n",
    "\n",
    "class MyClass_two:\n",
    "    def method1(self):\n",
    "        pass\n",
    "\n",
    "    def method2(self):\n",
    "        pass\n"
   ],
   "metadata": {
    "collapsed": false
   },
   "id": "533ddee383fd3f94"
  },
  {
   "cell_type": "markdown",
   "source": [
    "7. 导入应该按照以下顺序分组：\n",
    "标准库导入。\n",
    "相关的第三方库导入。\n",
    "本地应用程序/库特定的导入。\n",
    "在每个导入组之间应该有一个空行。"
   ],
   "metadata": {
    "collapsed": false
   },
   "id": "a5d7ba9d66e62928"
  },
  {
   "cell_type": "markdown",
   "source": [
    "8. 绝对导入"
   ],
   "metadata": {
    "collapsed": false
   },
   "id": "b6a45cbfc0c116ef"
  },
  {
   "cell_type": "code",
   "execution_count": null,
   "outputs": [],
   "source": [
    "\"\"\"import mypkg.sibling\n",
    "from mypkg import sibling\n",
    "from mypkg.sibling import example\"\"\"\n",
    "\n",
    "\"\"\"相对导入\"\"\"\n",
    "\"\"\"from . import sibling：这是一个相对导入语句，它从当前模块的父级目录中导入了 sibling 模块,. 表示当前目录，因此 . 表示当前模块的父级目录\n",
    "\n",
    "from .sibling import example：这也是一个相对导入语句，它从当前模块的父级目录中的 sibling 包中导入了 example。. 表示当前目录，因此 .sibling 表示当前模块的父级目录中的 sibling 包。\"\"\""
   ],
   "metadata": {
    "collapsed": false
   },
   "id": "6fc7bff1bc66ec9b"
  },
  {
   "cell_type": "markdown",
   "source": [
    "9. 语法糖（syntactic sugar）,语法糖通常是一种语法结构或语法规则，它可以用更简洁的方式实现相同的功能或操作,举例来说，在Python中，列表推导式、装饰器、上下文管理器等都是语法糖的例子"
   ],
   "metadata": {
    "collapsed": false
   },
   "id": "cec64b7020245c70"
  },
  {
   "cell_type": "markdown",
   "source": [
    "10. dunders” 是 Python 中的一种俚语，指代以两个下划线 __ 开头和结尾的特殊命名约定\n",
    "__author__、__version__ 这样的变量也被称为 \"dunders\"，通常用于模块级别的元数据或特殊用途的变量。"
   ],
   "metadata": {
    "collapsed": false
   },
   "id": "8d10730bc3995a8c"
  },
  {
   "cell_type": "markdown",
   "source": [
    "11. 模块级别的 \"dunders\"（即具有两个前导和两个尾随下划线的名称）\n",
    "如 all、author、version 等应该放在模块文档字符串之后，但在任何导入语句之前\n",
    "12. 除了来自 future 的导入。Python 要求未来导入必须出现在模块中除文档字符串之外的任何其他代码之前。"
   ],
   "metadata": {
    "collapsed": false
   },
   "id": "c5869ea46aa4093e"
  },
  {
   "cell_type": "code",
   "execution_count": null,
   "outputs": [],
   "source": [
    "\"\"\"This is the module docstring.\"\"\"\n",
    "\n",
    "from __future__ import annotations\n",
    "\"\"\"相当于元数据，在导入语句之前除了__future__\"\"\"\n",
    "__author__ = \"John Doe\"\n",
    "__version__ = \"1.0\"\n",
    "__all__ = ['function1', 'function2']\n",
    "\n",
    "import os\n",
    "import sys\n",
    "\n",
    "def function1():\n",
    "    pass\n",
    "\n",
    "def function2():\n",
    "    pass\n"
   ],
   "metadata": {
    "collapsed": false
   },
   "id": "62c0dcf88a191cab"
  },
  {
   "cell_type": "markdown",
   "source": [
    "13. 当字符串包含单引号或双引号字符时，使用另一种引号来避免使用反斜杠："
   ],
   "metadata": {
    "collapsed": false
   },
   "id": "233dbabd0c87dc82"
  },
  {
   "cell_type": "code",
   "execution_count": null,
   "outputs": [],
   "source": [
    "quote = 'He said, \"How are you?\"'"
   ],
   "metadata": {
    "collapsed": false
   },
   "id": "181b672a9333a2ee"
  },
  {
   "cell_type": "markdown",
   "source": [
    "14. 只有一个元素的元组加单独的逗号 ,"
   ],
   "metadata": {
    "collapsed": false
   },
   "id": "b9672d90c0daab51"
  },
  {
   "cell_type": "code",
   "execution_count": null,
   "outputs": [],
   "source": [
    "t=(1,)"
   ],
   "metadata": {
    "collapsed": false
   },
   "id": "93b3f5e52564647d"
  },
  {
   "cell_type": "markdown",
   "source": [
    "15. 在二元运算符的两侧始终使用相同数量的空格。\n",
    "16. 如果使用了不同优先级的运算符，请考虑在具有最低优先级的运算符周围添加空格"
   ],
   "metadata": {
    "collapsed": false
   },
   "id": "18f7a09a7351c1c4"
  },
  {
   "cell_type": "markdown",
   "source": [
    "17. 函数注解中使用的冒号前后应该有空格。\n",
    "18. 注解指定返回类型，则应使用 -> 箭头表示法，并在其周围加上空格。\n",
    "19. 不要在等号周围使用空格\n",
    "20. 在具体的默认值表达式中，通常不应该有空格"
   ],
   "metadata": {
    "collapsed": false
   },
   "id": "9006593336f6bdc7"
  },
  {
   "cell_type": "markdown",
   "source": [
    "21. 尾随逗号通常是可选的，但在创建只有一个元素的元组时，它们是必需的。"
   ],
   "metadata": {
    "collapsed": false
   },
   "id": "bb9d63d3ea92ecb0"
  },
  {
   "cell_type": "markdown",
   "source": [
    "22. 内联注释是与语句位于同一行的注释。内联注释应与语句至少相隔两个空格。它们应以 # 和一个空格开头。"
   ],
   "metadata": {
    "collapsed": false
   },
   "id": "3a53e894abb77d3a"
  },
  {
   "cell_type": "markdown",
   "source": [
    "23. 结束多行文档字符串的 \"\"\" 应该在单独的一行上："
   ],
   "metadata": {
    "collapsed": false
   },
   "id": "8d579f6ccb00ac8"
  },
  {
   "cell_type": "code",
   "execution_count": null,
   "outputs": [],
   "source": [
    "\"\"\"\n",
    "def munge(input: AnyStr): ...\n",
    "def munge() -> PosInt: ...\"\"\"\n",
    "\"\"\"\n",
    "# 正确的方式\n",
    "def munge(sep: AnyStr = None): ...\n",
    "def munge(input: AnyStr, sep: AnyStr = None, limit=1000): ...\n",
    "\"\"\""
   ],
   "metadata": {
    "collapsed": false
   },
   "id": "f968302b91249d8d"
  },
  {
   "cell_type": "markdown",
   "source": [
    "24. 捕获异常时，请尽可能提及特定异常，而不是使用裸except:子句："
   ],
   "metadata": {
    "collapsed": false
   },
   "id": "6c49cd494bd1f362"
  },
  {
   "cell_type": "markdown",
   "source": [
    "25. 使用''.startswith()and''.endswith()代替字符串切片来检查前缀或后缀"
   ],
   "metadata": {
    "collapsed": false
   },
   "id": "140cff4a6b6134c0"
  },
  {
   "cell_type": "markdown",
   "source": [
    "26. 对象类型比较应始终使用 isinstance() 而不是直接比较类型： "
   ],
   "metadata": {
    "collapsed": false
   },
   "id": "dc024fc0285345ea"
  },
  {
   "cell_type": "code",
   "execution_count": 2,
   "outputs": [
    {
     "name": "stdout",
     "output_type": "stream",
     "text": [
      "True\n",
      "True\n"
     ]
    }
   ],
   "source": [
    "print(isinstance(1, int))"
   ],
   "metadata": {
    "collapsed": false,
    "ExecuteTime": {
     "end_time": "2024-05-02T06:31:38.857425600Z",
     "start_time": "2024-05-02T06:31:38.838649300Z"
    }
   },
   "id": "b1d0108d8c5789f"
  },
  {
   "cell_type": "markdown",
   "source": [
    "27. 对于序列（字符串、列表、元组），使用空序列为 false 的事实："
   ],
   "metadata": {
    "collapsed": false
   },
   "id": "90edc4365554a31e"
  },
  {
   "cell_type": "markdown",
   "source": [
    "28. 对于类型注释的空格"
   ],
   "metadata": {
    "collapsed": false
   },
   "id": "166271de29afb9af"
  },
  {
   "cell_type": "code",
   "execution_count": null,
   "outputs": [],
   "source": [
    "def add(x:int, y: int) -> int:\n",
    " return x + y \n"
   ],
   "metadata": {
    "collapsed": false
   },
   "id": "c5a452b6758b48c4"
  },
  {
   "cell_type": "markdown",
   "source": [],
   "metadata": {
    "collapsed": false
   },
   "id": "a2b7cfb94fcead7b"
  }
 ],
 "metadata": {
  "kernelspec": {
   "display_name": "Python 3",
   "language": "python",
   "name": "python3"
  },
  "language_info": {
   "codemirror_mode": {
    "name": "ipython",
    "version": 2
   },
   "file_extension": ".py",
   "mimetype": "text/x-python",
   "name": "python",
   "nbconvert_exporter": "python",
   "pygments_lexer": "ipython2",
   "version": "2.7.6"
  }
 },
 "nbformat": 4,
 "nbformat_minor": 5
}
