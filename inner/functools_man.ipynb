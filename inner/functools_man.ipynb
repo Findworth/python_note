{
 "cells": [
  {
   "cell_type": "code",
   "execution_count": 2,
   "id": "initial_id",
   "metadata": {
    "collapsed": true,
    "ExecuteTime": {
     "end_time": "2024-09-18T12:36:52.041856Z",
     "start_time": "2024-09-18T12:36:52.023784900Z"
    }
   },
   "outputs": [
    {
     "name": "stdout",
     "output_type": "stream",
     "text": [
      "8\n",
      "6\n",
      "8\n"
     ]
    }
   ],
   "source": [
    "\"\"\"\n",
    "pratial传递函数的部分参数,返回一个已经传入参数的函数\n",
    "param:\n",
    "func\n",
    "param you know\n",
    "\"\"\"\n",
    "from functools import partial\n",
    "def add(y,x,z):\n",
    "    return x+y+z\n",
    "new_func=partial(add,x=3,z=1)\n",
    "print(new_func(4))\n",
    "# 可以同时传入所有参数,如果按照关键字传入，则不在乎顺序\n",
    "result_func=partial(add,z=1,y=2,x=3)\n",
    "print(result_func())\n",
    "#原函数不变\n",
    "print(add(1,2,5))"
   ]
  },
  {
   "cell_type": "markdown",
   "source": [
    "initializer (可选): 初始化累积的起始值。如果提供了该值，reduce 会首先将其与 iterable 的第一个元素一起传递给 function 作为第一个计算步骤"
   ],
   "metadata": {
    "collapsed": false
   },
   "id": "f5e2d9d20233486"
  },
  {
   "cell_type": "code",
   "execution_count": 1,
   "outputs": [
    {
     "name": "stdout",
     "output_type": "stream",
     "text": [
      "16\n"
     ]
    }
   ],
   "source": [
    "from functools import reduce\n",
    "# 使用 initializer 初始化累加器\n",
    "result = reduce(lambda x, y: x + y, [1, 2, 3], 10)\n",
    "print(result)  # 输出: 16\n"
   ],
   "metadata": {
    "collapsed": false,
    "ExecuteTime": {
     "end_time": "2024-09-18T12:35:14.491323200Z",
     "start_time": "2024-09-18T12:35:14.478420600Z"
    }
   },
   "id": "b9edb63d2c09608d"
  },
  {
   "cell_type": "code",
   "execution_count": null,
   "outputs": [],
   "source": [
    "\"\"\"\n",
    "LRU:法根据数据的历史访问记录来进行淘汰数据，其核心思想是“如果数据最近被访问过，那么将来被访问的几率也更高”\n",
    "Least Recently Used\n",
    "\"\"\""
   ],
   "metadata": {
    "collapsed": false
   },
   "id": "40ad10982ee6f3e"
  },
  {
   "cell_type": "markdown",
   "source": [
    "缓存机制\n",
    "一个为函数提供缓存功能的装饰器，缓存 maxsize 组传入参数，在下次以相同参数调用时直接返回上一次的结果。用以节约高开销或I/O函数的调用时间\n",
    "清理/使缓存失效的函数 cache_clear()，对于递归函数有用\n"
   ],
   "metadata": {
    "collapsed": false
   },
   "id": "73acaa90cac41319"
  },
  {
   "cell_type": "code",
   "execution_count": 4,
   "outputs": [
    {
     "name": "stdout",
     "output_type": "stream",
     "text": [
      "55\n",
      "CacheInfo(hits=8, misses=11, maxsize=100, currsize=11)\n"
     ]
    }
   ],
   "source": [
    "from functools import lru_cache\n",
    "@lru_cache(maxsize=100)\n",
    "def fibonacci(n):\n",
    "    if n < 2:\n",
    "        return n\n",
    "    return fibonacci(n-1) + fibonacci(n-2)\n",
    "\n",
    "# 调用函数\n",
    "print(fibonacci(10))  # 输出: 55\n",
    "print(fibonacci.cache_info())"
   ],
   "metadata": {
    "collapsed": false,
    "ExecuteTime": {
     "end_time": "2024-09-18T13:00:03.638568Z",
     "start_time": "2024-09-18T13:00:03.610085600Z"
    }
   },
   "id": "167058c75a47b6a8"
  },
  {
   "cell_type": "markdown",
   "source": [],
   "metadata": {
    "collapsed": false
   },
   "id": "e56a0ff6cb084e4a"
  }
 ],
 "metadata": {
  "kernelspec": {
   "display_name": "Python 3",
   "language": "python",
   "name": "python3"
  },
  "language_info": {
   "codemirror_mode": {
    "name": "ipython",
    "version": 2
   },
   "file_extension": ".py",
   "mimetype": "text/x-python",
   "name": "python",
   "nbconvert_exporter": "python",
   "pygments_lexer": "ipython2",
   "version": "2.7.6"
  }
 },
 "nbformat": 4,
 "nbformat_minor": 5
}
