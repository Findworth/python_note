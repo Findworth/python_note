{
 "cells": [
  {
   "cell_type": "markdown",
   "source": [
    "### repr"
   ],
   "metadata": {
    "collapsed": false
   },
   "id": "c7443d0c21b1b72"
  },
  {
   "cell_type": "markdown",
   "source": [
    "1. 返回一个对象的“官方”字符串表示形式,提供一个详细的、可读的描述对象的类名和一些详细信息的组合\n",
    "2. 可以用于重新创建对象。这对于序列化和反序列化对象非常有用。\n",
    "3.  对于自定义类，通常会实现 __repr__ 方法来定义对象的 repr 表示形式，以便根据需要提供有用的信息\n",
    "4. repr 的输出应该提供更多的细节，以便用于调试和诊断，而 str 则更适合用户友好的显示，可以省略一些细节"
   ],
   "metadata": {
    "collapsed": false
   },
   "id": "a644271848653b48"
  },
  {
   "cell_type": "code",
   "execution_count": 19,
   "outputs": [
    {
     "name": "stdout",
     "output_type": "stream",
     "text": [
      "Point(1, 2)\n"
     ]
    }
   ],
   "source": [
    "class Point:\n",
    "    def __init__(self, x, y):\n",
    "        self.x = x\n",
    "        self.y = y\n",
    "\n",
    "    def __repr__(self):\n",
    "        return f'Point({self.x}, {self.y})'\n",
    "    def __str__(self):\n",
    "        return f'Point: x={self.x}, y={self.y}'\n",
    "p = Point(1, 2)\n",
    "print(repr(p))  "
   ],
   "metadata": {
    "collapsed": false,
    "ExecuteTime": {
     "end_time": "2024-04-06T13:03:51.179359300Z",
     "start_time": "2024-04-06T13:03:51.174767900Z"
    }
   },
   "id": "fb9bd5d0ee104b50"
  },
  {
   "cell_type": "markdown",
   "source": [
    "### 当类中没有定义 __str__ 方法时，默认使用 __repr__ 方法作为 __str__ 方法的实现。"
   ],
   "metadata": {
    "collapsed": false
   },
   "id": "5722356c183d5297"
  },
  {
   "cell_type": "code",
   "execution_count": 2,
   "outputs": [
    {
     "name": "stdout",
     "output_type": "stream",
     "text": [
      "Point: x=1, y=2\n",
      "Point: 1, 2\n"
     ]
    }
   ],
   "source": [
    "class Point:\n",
    "    def __init__(self, x, y):\n",
    "        self.x = x\n",
    "        self.y = y\n",
    "    def __repr__(self):\n",
    "        return f'Point: x={self.x}, y={self.y}'\n",
    "    def __str__(self):\n",
    "        return f'Point: {self.x}, {self.y}'\n",
    "p = Point(1, 2)\n",
    "print(repr(p))\n",
    "print(p)"
   ],
   "metadata": {
    "collapsed": false,
    "ExecuteTime": {
     "end_time": "2024-09-16T12:03:09.189446Z",
     "start_time": "2024-09-16T12:03:09.172706600Z"
    }
   },
   "id": "15ee824780f9dafe"
  },
  {
   "cell_type": "code",
   "execution_count": 20,
   "outputs": [
    {
     "name": "stdout",
     "output_type": "stream",
     "text": [
      "Date(2024, 4, 6)\n",
      "4/6/2024\n"
     ]
    }
   ],
   "source": [
    "class Date:\n",
    "    def __init__(self, year, month, day):\n",
    "        self.year = year\n",
    "        self.month = month\n",
    "        self.day = day\n",
    "\n",
    "    def __repr__(self):\n",
    "        return f'Date({self.year}, {self.month}, {self.day})'\n",
    "\n",
    "    def __str__(self):\n",
    "        return f'{self.month}/{self.day}/{self.year}'\n",
    "\n",
    "date = Date(2024, 4, 6)\n",
    "\n",
    "print(repr(date))  # 输出：Date(2024, 4, 6)\n",
    "print(str(date))   # 输出：4/6/2024\n"
   ],
   "metadata": {
    "collapsed": false,
    "ExecuteTime": {
     "end_time": "2024-04-06T13:04:54.918601600Z",
     "start_time": "2024-04-06T13:04:54.897931300Z"
    }
   },
   "id": "6e21f88ff72827f8"
  }
 ],
 "metadata": {
  "kernelspec": {
   "display_name": "Python 3",
   "language": "python",
   "name": "python3"
  },
  "language_info": {
   "codemirror_mode": {
    "name": "ipython",
    "version": 2
   },
   "file_extension": ".py",
   "mimetype": "text/x-python",
   "name": "python",
   "nbconvert_exporter": "python",
   "pygments_lexer": "ipython2",
   "version": "2.7.6"
  }
 },
 "nbformat": 4,
 "nbformat_minor": 5
}
