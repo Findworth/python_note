{
 "cells": [
  {
   "cell_type": "markdown",
   "source": [
    "# with"
   ],
   "metadata": {
    "collapsed": false
   },
   "id": "ea12b39e23d1babc"
  },
  {
   "cell_type": "markdown",
   "source": [
    "# 基本语法\n",
    "# with expression as variable:"
   ],
   "metadata": {
    "collapsed": false
   },
   "id": "2b2c80928e5d1f5c"
  },
  {
   "cell_type": "markdown",
   "source": [
    "# with语句是Python中用于管理资源的一种方式，它可以确保在代码块结束时资源被正确释放，无论代码块是否出现异常。with语句的常见用法包括文件操作、网络连接和数据库连接等"
   ],
   "metadata": {
    "collapsed": false
   },
   "id": "2a34732dc0f1680a"
  },
  {
   "cell_type": "markdown",
   "source": [
    "### with原理\n",
    "1. __enter__() 和 __exit__() 方法\n",
    "2. with之所以能够自动关闭文件是因为__exit__()”方法\n",
    "3.  调用__enter__()方法时，会返回一个对象，这个对象会被赋值给as后面的变量\n",
    "4. 这2个方法也可以自己定义"
   ],
   "metadata": {
    "collapsed": false
   },
   "id": "bdf0aa61c5a2d10e"
  },
  {
   "cell_type": "markdown",
   "source": [
    "1. 文件操作：使用with open()语句可以打开一个文件，并在代码块结束时自动关闭文件。"
   ],
   "metadata": {
    "collapsed": false
   },
   "id": "dda576ead9a2fbb1"
  },
  {
   "cell_type": "code",
   "execution_count": null,
   "outputs": [],
   "source": [
    "with open('example.txt', 'r') as f:\n",
    "    print(f.read())"
   ],
   "metadata": {
    "collapsed": false
   },
   "id": "800f66ab2c30d972"
  },
  {
   "cell_type": "code",
   "execution_count": null,
   "outputs": [],
   "source": [
    "with open(\".github_access_token\", \"r\") as file:\n",
    "    access_token = file.read()"
   ],
   "metadata": {
    "collapsed": false
   },
   "id": "a7b6737e20e65f0c"
  },
  {
   "cell_type": "code",
   "execution_count": null,
   "outputs": [],
   "source": [
    "\"\"\"不建议\"\"\"\n",
    "try:\n",
    "    with open(\"1.log\", \"r\") as f:\n",
    "        print(f.read())\n",
    "except:\n",
    "    print(\"打开文件异常\")"
   ],
   "metadata": {
    "collapsed": false
   },
   "id": "eef0249491c32071"
  },
  {
   "cell_type": "code",
   "execution_count": null,
   "outputs": [],
   "source": [
    "import requests\n",
    "import time\n",
    "import socket\n",
    "port=8080\n",
    "url = 'https://www.example.com/api/data'\n",
    "with requests.get(url) as response:\n",
    "    if response.status_code == 200:\n",
    "        data = response.json()\n",
    "        print(data)\n",
    "    else:\n",
    "        print('Failed to fetch data:', response.status_code)\n",
    "        "
   ],
   "metadata": {
    "collapsed": false
   },
   "id": "66ba537d0315d2b9"
  },
  {
   "cell_type": "markdown",
   "source": [
    "4. 操作数据库：使用 with 来确保在完成操作后自动关闭数据库连接。"
   ],
   "metadata": {
    "collapsed": false
   },
   "id": "8262441155eb6d30"
  }
 ],
 "metadata": {
  "kernelspec": {
   "display_name": "Python 3",
   "language": "python",
   "name": "python3"
  },
  "language_info": {
   "codemirror_mode": {
    "name": "ipython",
    "version": 2
   },
   "file_extension": ".py",
   "mimetype": "text/x-python",
   "name": "python",
   "nbconvert_exporter": "python",
   "pygments_lexer": "ipython2",
   "version": "2.7.6"
  }
 },
 "nbformat": 4,
 "nbformat_minor": 5
}
